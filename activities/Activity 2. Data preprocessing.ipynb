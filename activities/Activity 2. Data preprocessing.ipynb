{
 "cells": [
  {
   "metadata": {},
   "cell_type": "markdown",
   "source": [
    "# Data preprocessing with Pandas and Numpy\n",
    "\n",
    "Question: we have a dataset \n",
    "Analysing a simple dataset (e.g., a CSV file containg survey responses) using pandas and drawing basic inferences\n",
    "\n",
    "**What we will cover**:\n",
    "\n",
    "- Pandas library overview\n",
    "- loading data \n",
    "dataframes\n",
    "- basic data wrangling: selecting, filtering and summarizing\n",
    "- text \n",
    "\n"
   ],
   "id": "5b86980dff2a5c9"
  },
  {
   "metadata": {},
   "cell_type": "code",
   "outputs": [],
   "execution_count": null,
   "source": "",
   "id": "381c23f4dd13ee06"
  },
  {
   "metadata": {},
   "cell_type": "markdown",
   "source": "write custom functions and apply to dataset using map\n",
   "id": "510e1c3f3465a396"
  },
  {
   "metadata": {},
   "cell_type": "markdown",
   "source": [
    "seaborn\n",
    "\n",
    "https://seaborn.pydata.org/generated/seaborn.set_theme.html\n",
    "\n"
   ],
   "id": "aa659842abae3553"
  }
 ],
 "metadata": {
  "kernelspec": {
   "display_name": "Python 3",
   "language": "python",
   "name": "python3"
  },
  "language_info": {
   "codemirror_mode": {
    "name": "ipython",
    "version": 2
   },
   "file_extension": ".py",
   "mimetype": "text/x-python",
   "name": "python",
   "nbconvert_exporter": "python",
   "pygments_lexer": "ipython2",
   "version": "2.7.6"
  }
 },
 "nbformat": 4,
 "nbformat_minor": 5
}
