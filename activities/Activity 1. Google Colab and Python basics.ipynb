{
 "cells": [
  {
   "metadata": {},
   "cell_type": "markdown",
   "source": [
    "# Google Colab and Python Basics\n",
    "\n",
    "Question: \n",
    "\n",
    "**What we will cover**:\n",
    "\n",
    "1. Google Colab:\n",
    "- account setup\n",
    "- benefits and be aware of points\n",
    "- structure\n",
    "- useful tips\n",
    "\n",
    "2. Python basics\n",
    "- variables and data types\n",
    "- list, tuples, dictionaries,\n",
    "- functions and classes\n",
    "- main python libraries\n",
    "\n",
    "\n"
   ],
   "id": "77c19a9aab2fc432"
  },
  {
   "metadata": {},
   "cell_type": "markdown",
   "source": [
    "## Python basics\n",
    "\n",
    "### Python syntax\n",
    "\n",
    "### Variables and data types \n",
    "\n",
    "(integers, floats, strings).\n",
    "with \n",
    "Basic operations (addition, multiplication, etc.)."
   ],
   "id": "6ec624729fb7d348"
  },
  {
   "metadata": {},
   "cell_type": "code",
   "outputs": [],
   "execution_count": null,
   "source": "",
   "id": "2b4929cee0ba6b28"
  },
  {
   "metadata": {},
   "cell_type": "markdown",
   "source": [
    "### Flow and condition\n",
    "[analyze_text(item['text']) for item in dataset]\n"
   ],
   "id": "36d5c5c89986bcc9"
  }
 ],
 "metadata": {
  "kernelspec": {
   "display_name": "Python 3",
   "language": "python",
   "name": "python3"
  },
  "language_info": {
   "codemirror_mode": {
    "name": "ipython",
    "version": 2
   },
   "file_extension": ".py",
   "mimetype": "text/x-python",
   "name": "python",
   "nbconvert_exporter": "python",
   "pygments_lexer": "ipython2",
   "version": "2.7.6"
  }
 },
 "nbformat": 4,
 "nbformat_minor": 5
}
