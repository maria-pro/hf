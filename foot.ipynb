{
 "cells": [
  {
   "cell_type": "code",
   "id": "initial_id",
   "metadata": {
    "collapsed": true,
    "ExecuteTime": {
     "end_time": "2024-07-29T02:56:04.672385Z",
     "start_time": "2024-07-29T02:55:59.912594Z"
    }
   },
   "source": [
    "import pandas as pd\n",
    "import csv\n",
    "import numpy as np\n",
    "import matplotlib.pyplot as plt\n",
    "from sklearn.model_selection import train_test_split\n",
    "from sklearn.preprocessing import StandardScaler, LabelEncoder,RobustScaler\n",
    "import seaborn as sns\n",
    "import matplotlib.pyplot as plt"
   ],
   "outputs": [],
   "execution_count": 3
  },
  {
   "metadata": {
    "ExecuteTime": {
     "end_time": "2024-07-29T02:56:10.085923Z",
     "start_time": "2024-07-29T02:56:10.083616Z"
    }
   },
   "cell_type": "code",
   "source": [
    "import sys\n",
    "print(sys.executable)"
   ],
   "id": "16de57a1aa0e61f1",
   "outputs": [
    {
     "name": "stdout",
     "output_type": "stream",
     "text": [
      "/Users/e5028514/Desktop/Projects/HF/.venv/bin/python\n"
     ]
    }
   ],
   "execution_count": 4
  },
  {
   "metadata": {
    "ExecuteTime": {
     "end_time": "2024-07-29T02:56:42.645071Z",
     "start_time": "2024-07-29T02:56:42.633528Z"
    }
   },
   "cell_type": "code",
   "source": "data=pd.read_csv('/Users/e5028514/Desktop/Projects/foot/data/BilKaiLisaMonq.csv')",
   "id": "8493bf93bca2da0b",
   "outputs": [],
   "execution_count": 5
  },
  {
   "metadata": {
    "ExecuteTime": {
     "end_time": "2024-07-29T02:57:49.297623Z",
     "start_time": "2024-07-29T02:57:49.265385Z"
    }
   },
   "cell_type": "code",
   "source": "data.describe()\n",
   "id": "1c6103e645a2f058",
   "outputs": [
    {
     "data": {
      "text/plain": [
       "               AccX          AccY          AccZ         GyroX         GyroY  \\\n",
       "count  12073.000000  12073.000000  12073.000000  12073.000000  12073.000000   \n",
       "mean       8.399981     -2.238323      6.493737      2.377303     -2.523217   \n",
       "std        6.773462      4.668703      6.506450      1.607605      2.236982   \n",
       "min      -17.380840    -22.460766    -23.599466     -1.853495     -6.956232   \n",
       "25%        4.049542     -5.252757      1.079549      1.070949     -4.758094   \n",
       "50%        8.884424     -1.995594      7.620886      2.542088     -2.637162   \n",
       "75%       12.500834      1.346720     11.824011      3.716942     -0.389733   \n",
       "max       28.617554     13.021587     21.294371      6.771983      4.481352   \n",
       "\n",
       "              GyroZ  \n",
       "count  12073.000000  \n",
       "mean       2.168500  \n",
       "std        1.401860  \n",
       "min       -3.080787  \n",
       "25%        1.748739  \n",
       "50%        2.556587  \n",
       "75%        3.138266  \n",
       "max        5.262755  "
      ],
      "text/html": [
       "<div>\n",
       "<style scoped>\n",
       "    .dataframe tbody tr th:only-of-type {\n",
       "        vertical-align: middle;\n",
       "    }\n",
       "\n",
       "    .dataframe tbody tr th {\n",
       "        vertical-align: top;\n",
       "    }\n",
       "\n",
       "    .dataframe thead th {\n",
       "        text-align: right;\n",
       "    }\n",
       "</style>\n",
       "<table border=\"1\" class=\"dataframe\">\n",
       "  <thead>\n",
       "    <tr style=\"text-align: right;\">\n",
       "      <th></th>\n",
       "      <th>AccX</th>\n",
       "      <th>AccY</th>\n",
       "      <th>AccZ</th>\n",
       "      <th>GyroX</th>\n",
       "      <th>GyroY</th>\n",
       "      <th>GyroZ</th>\n",
       "    </tr>\n",
       "  </thead>\n",
       "  <tbody>\n",
       "    <tr>\n",
       "      <th>count</th>\n",
       "      <td>12073.000000</td>\n",
       "      <td>12073.000000</td>\n",
       "      <td>12073.000000</td>\n",
       "      <td>12073.000000</td>\n",
       "      <td>12073.000000</td>\n",
       "      <td>12073.000000</td>\n",
       "    </tr>\n",
       "    <tr>\n",
       "      <th>mean</th>\n",
       "      <td>8.399981</td>\n",
       "      <td>-2.238323</td>\n",
       "      <td>6.493737</td>\n",
       "      <td>2.377303</td>\n",
       "      <td>-2.523217</td>\n",
       "      <td>2.168500</td>\n",
       "    </tr>\n",
       "    <tr>\n",
       "      <th>std</th>\n",
       "      <td>6.773462</td>\n",
       "      <td>4.668703</td>\n",
       "      <td>6.506450</td>\n",
       "      <td>1.607605</td>\n",
       "      <td>2.236982</td>\n",
       "      <td>1.401860</td>\n",
       "    </tr>\n",
       "    <tr>\n",
       "      <th>min</th>\n",
       "      <td>-17.380840</td>\n",
       "      <td>-22.460766</td>\n",
       "      <td>-23.599466</td>\n",
       "      <td>-1.853495</td>\n",
       "      <td>-6.956232</td>\n",
       "      <td>-3.080787</td>\n",
       "    </tr>\n",
       "    <tr>\n",
       "      <th>25%</th>\n",
       "      <td>4.049542</td>\n",
       "      <td>-5.252757</td>\n",
       "      <td>1.079549</td>\n",
       "      <td>1.070949</td>\n",
       "      <td>-4.758094</td>\n",
       "      <td>1.748739</td>\n",
       "    </tr>\n",
       "    <tr>\n",
       "      <th>50%</th>\n",
       "      <td>8.884424</td>\n",
       "      <td>-1.995594</td>\n",
       "      <td>7.620886</td>\n",
       "      <td>2.542088</td>\n",
       "      <td>-2.637162</td>\n",
       "      <td>2.556587</td>\n",
       "    </tr>\n",
       "    <tr>\n",
       "      <th>75%</th>\n",
       "      <td>12.500834</td>\n",
       "      <td>1.346720</td>\n",
       "      <td>11.824011</td>\n",
       "      <td>3.716942</td>\n",
       "      <td>-0.389733</td>\n",
       "      <td>3.138266</td>\n",
       "    </tr>\n",
       "    <tr>\n",
       "      <th>max</th>\n",
       "      <td>28.617554</td>\n",
       "      <td>13.021587</td>\n",
       "      <td>21.294371</td>\n",
       "      <td>6.771983</td>\n",
       "      <td>4.481352</td>\n",
       "      <td>5.262755</td>\n",
       "    </tr>\n",
       "  </tbody>\n",
       "</table>\n",
       "</div>"
      ]
     },
     "execution_count": 6,
     "metadata": {},
     "output_type": "execute_result"
    }
   ],
   "execution_count": 6
  },
  {
   "metadata": {
    "ExecuteTime": {
     "end_time": "2024-07-29T02:58:18.577429Z",
     "start_time": "2024-07-29T02:58:18.571306Z"
    }
   },
   "cell_type": "code",
   "source": "data.head()",
   "id": "d4c2247468f0c27a",
   "outputs": [
    {
     "data": {
      "text/plain": [
       "       AccX      AccY      AccZ     GyroX     GyroY     GyroZ Label  \\\n",
       "0  9.143572  3.660806 -0.825343 -0.107234 -0.346874 -0.850084    R1   \n",
       "1  8.803561  2.676371 -0.507567 -0.122469 -0.329190 -0.788090    R1   \n",
       "2  8.463550  1.691936 -0.189790 -0.137705 -0.311506 -0.726096    R1   \n",
       "3  8.304505  1.348457 -0.019313 -0.134353 -0.320074 -0.714805    R1   \n",
       "4  8.145461  1.004977  0.151165 -0.131001 -0.328643 -0.703515    R1   \n",
       "\n",
       "  Unnamed: 7 Unnamed: 8  \n",
       "0        NaN        NaN  \n",
       "1        NaN        NaN  \n",
       "2        NaN        NaN  \n",
       "3        NaN        NaN  \n",
       "4        NaN        NaN  "
      ],
      "text/html": [
       "<div>\n",
       "<style scoped>\n",
       "    .dataframe tbody tr th:only-of-type {\n",
       "        vertical-align: middle;\n",
       "    }\n",
       "\n",
       "    .dataframe tbody tr th {\n",
       "        vertical-align: top;\n",
       "    }\n",
       "\n",
       "    .dataframe thead th {\n",
       "        text-align: right;\n",
       "    }\n",
       "</style>\n",
       "<table border=\"1\" class=\"dataframe\">\n",
       "  <thead>\n",
       "    <tr style=\"text-align: right;\">\n",
       "      <th></th>\n",
       "      <th>AccX</th>\n",
       "      <th>AccY</th>\n",
       "      <th>AccZ</th>\n",
       "      <th>GyroX</th>\n",
       "      <th>GyroY</th>\n",
       "      <th>GyroZ</th>\n",
       "      <th>Label</th>\n",
       "      <th>Unnamed: 7</th>\n",
       "      <th>Unnamed: 8</th>\n",
       "    </tr>\n",
       "  </thead>\n",
       "  <tbody>\n",
       "    <tr>\n",
       "      <th>0</th>\n",
       "      <td>9.143572</td>\n",
       "      <td>3.660806</td>\n",
       "      <td>-0.825343</td>\n",
       "      <td>-0.107234</td>\n",
       "      <td>-0.346874</td>\n",
       "      <td>-0.850084</td>\n",
       "      <td>R1</td>\n",
       "      <td>NaN</td>\n",
       "      <td>NaN</td>\n",
       "    </tr>\n",
       "    <tr>\n",
       "      <th>1</th>\n",
       "      <td>8.803561</td>\n",
       "      <td>2.676371</td>\n",
       "      <td>-0.507567</td>\n",
       "      <td>-0.122469</td>\n",
       "      <td>-0.329190</td>\n",
       "      <td>-0.788090</td>\n",
       "      <td>R1</td>\n",
       "      <td>NaN</td>\n",
       "      <td>NaN</td>\n",
       "    </tr>\n",
       "    <tr>\n",
       "      <th>2</th>\n",
       "      <td>8.463550</td>\n",
       "      <td>1.691936</td>\n",
       "      <td>-0.189790</td>\n",
       "      <td>-0.137705</td>\n",
       "      <td>-0.311506</td>\n",
       "      <td>-0.726096</td>\n",
       "      <td>R1</td>\n",
       "      <td>NaN</td>\n",
       "      <td>NaN</td>\n",
       "    </tr>\n",
       "    <tr>\n",
       "      <th>3</th>\n",
       "      <td>8.304505</td>\n",
       "      <td>1.348457</td>\n",
       "      <td>-0.019313</td>\n",
       "      <td>-0.134353</td>\n",
       "      <td>-0.320074</td>\n",
       "      <td>-0.714805</td>\n",
       "      <td>R1</td>\n",
       "      <td>NaN</td>\n",
       "      <td>NaN</td>\n",
       "    </tr>\n",
       "    <tr>\n",
       "      <th>4</th>\n",
       "      <td>8.145461</td>\n",
       "      <td>1.004977</td>\n",
       "      <td>0.151165</td>\n",
       "      <td>-0.131001</td>\n",
       "      <td>-0.328643</td>\n",
       "      <td>-0.703515</td>\n",
       "      <td>R1</td>\n",
       "      <td>NaN</td>\n",
       "      <td>NaN</td>\n",
       "    </tr>\n",
       "  </tbody>\n",
       "</table>\n",
       "</div>"
      ]
     },
     "execution_count": 8,
     "metadata": {},
     "output_type": "execute_result"
    }
   ],
   "execution_count": 8
  },
  {
   "metadata": {
    "ExecuteTime": {
     "end_time": "2024-07-29T02:58:41.846788Z",
     "start_time": "2024-07-29T02:58:41.844773Z"
    }
   },
   "cell_type": "code",
   "source": [
    "import numpy as np\n",
    "from scipy.stats import pearsonr"
   ],
   "id": "6d05eb730493db86",
   "outputs": [],
   "execution_count": 9
  },
  {
   "metadata": {
    "ExecuteTime": {
     "end_time": "2024-07-29T03:00:34.198667Z",
     "start_time": "2024-07-29T03:00:34.195646Z"
    }
   },
   "cell_type": "code",
   "source": [
    "features=[\"AccX\", \"AccY\", \"AccZ\", \"GyroX\", \"GyroY\", \"GyroZ\" ]\n",
    "correlations={}"
   ],
   "id": "251105d233948a99",
   "outputs": [],
   "execution_count": 11
  },
  {
   "metadata": {
    "ExecuteTime": {
     "end_time": "2024-07-29T03:00:38.467102Z",
     "start_time": "2024-07-29T03:00:38.463935Z"
    }
   },
   "cell_type": "code",
   "source": "features",
   "id": "b91c9f2c61318d5",
   "outputs": [
    {
     "data": {
      "text/plain": [
       "['AccX', 'AccY', 'AccZ', 'GyroX', 'GyroY', 'GyroZ']"
      ]
     },
     "execution_count": 12,
     "metadata": {},
     "output_type": "execute_result"
    }
   ],
   "execution_count": 12
  },
  {
   "metadata": {
    "ExecuteTime": {
     "end_time": "2024-07-29T03:06:51.318888Z",
     "start_time": "2024-07-29T03:06:51.312534Z"
    }
   },
   "cell_type": "code",
   "source": [
    "print(data.dtypes)\n",
    "data['Label'] = data['Label'].astype('category')\n",
    "print(data.dtypes)\n"
   ],
   "id": "fb11896a8121e503",
   "outputs": [
    {
     "name": "stdout",
     "output_type": "stream",
     "text": [
      "AccX           float64\n",
      "AccY           float64\n",
      "AccZ           float64\n",
      "GyroX          float64\n",
      "GyroY          float64\n",
      "GyroZ          float64\n",
      "Label         category\n",
      "Unnamed: 7      object\n",
      "Unnamed: 8      object\n",
      "dtype: object\n",
      "AccX           float64\n",
      "AccY           float64\n",
      "AccZ           float64\n",
      "GyroX          float64\n",
      "GyroY          float64\n",
      "GyroZ          float64\n",
      "Label         category\n",
      "Unnamed: 7      object\n",
      "Unnamed: 8      object\n",
      "dtype: object\n"
     ]
    }
   ],
   "execution_count": 18
  },
  {
   "metadata": {},
   "cell_type": "code",
   "outputs": [],
   "execution_count": null,
   "source": "",
   "id": "cf75a62d6d729cc"
  },
  {
   "metadata": {
    "ExecuteTime": {
     "end_time": "2024-07-29T03:03:10.512841Z",
     "start_time": "2024-07-29T03:03:10.495465Z"
    }
   },
   "cell_type": "code",
   "source": [
    "for feature in features:\n",
    "    corr, p_value=pearsonr(data[feature], data[\"Label\"])\n",
    "    #correlations[feature]={'correlation': corr, 'p-value': p_value}\n",
    "    "
   ],
   "id": "451ae73ab7eca217",
   "outputs": [
    {
     "ename": "UFuncTypeError",
     "evalue": "ufunc 'add' did not contain a loop with signature matching types (dtype('float64'), dtype('<U2')) -> None",
     "output_type": "error",
     "traceback": [
      "\u001B[0;31m---------------------------------------------------------------------------\u001B[0m",
      "\u001B[0;31mUFuncTypeError\u001B[0m                            Traceback (most recent call last)",
      "\u001B[0;32m/var/folders/6f/cqjqnsbj3pgb13mm94xj221wssky6y/T/ipykernel_89953/3888189407.py\u001B[0m in \u001B[0;36m?\u001B[0;34m()\u001B[0m\n\u001B[1;32m      1\u001B[0m \u001B[0;32mfor\u001B[0m \u001B[0mfeature\u001B[0m \u001B[0;32min\u001B[0m \u001B[0mfeatures\u001B[0m\u001B[0;34m:\u001B[0m\u001B[0;34m\u001B[0m\u001B[0;34m\u001B[0m\u001B[0m\n\u001B[0;32m----> 2\u001B[0;31m     \u001B[0mcorr\u001B[0m\u001B[0;34m,\u001B[0m \u001B[0mp_value\u001B[0m\u001B[0;34m=\u001B[0m\u001B[0mpearsonr\u001B[0m\u001B[0;34m(\u001B[0m\u001B[0mdata\u001B[0m\u001B[0;34m[\u001B[0m\u001B[0mfeature\u001B[0m\u001B[0;34m]\u001B[0m\u001B[0;34m,\u001B[0m \u001B[0mdata\u001B[0m\u001B[0;34m[\u001B[0m\u001B[0;34m\"Label\"\u001B[0m\u001B[0;34m]\u001B[0m\u001B[0;34m)\u001B[0m\u001B[0;34m\u001B[0m\u001B[0;34m\u001B[0m\u001B[0m\n\u001B[0m\u001B[1;32m      3\u001B[0m     \u001B[0;31m#correlations[feature]={'correlation': corr, 'p-value': p_value}\u001B[0m\u001B[0;34m\u001B[0m\u001B[0;34m\u001B[0m\u001B[0;34m\u001B[0m\u001B[0m\n\u001B[1;32m      4\u001B[0m \u001B[0;34m\u001B[0m\u001B[0m\n",
      "\u001B[0;32m~/Desktop/Projects/HF/.venv/lib/python3.9/site-packages/scipy/stats/_stats_py.py\u001B[0m in \u001B[0;36m?\u001B[0;34m(x, y, alternative, method)\u001B[0m\n\u001B[1;32m   4770\u001B[0m \u001B[0;34m\u001B[0m\u001B[0m\n\u001B[1;32m   4771\u001B[0m     \u001B[0;31m# dtype is the data type for the calculations.  This expression ensures\u001B[0m\u001B[0;34m\u001B[0m\u001B[0;34m\u001B[0m\u001B[0;34m\u001B[0m\u001B[0m\n\u001B[1;32m   4772\u001B[0m     \u001B[0;31m# that the data type is at least 64 bit floating point.  It might have\u001B[0m\u001B[0;34m\u001B[0m\u001B[0;34m\u001B[0m\u001B[0;34m\u001B[0m\u001B[0m\n\u001B[1;32m   4773\u001B[0m     \u001B[0;31m# more precision if the input is, for example, np.longdouble.\u001B[0m\u001B[0;34m\u001B[0m\u001B[0;34m\u001B[0m\u001B[0;34m\u001B[0m\u001B[0m\n\u001B[0;32m-> 4774\u001B[0;31m     \u001B[0mdtype\u001B[0m \u001B[0;34m=\u001B[0m \u001B[0mtype\u001B[0m\u001B[0;34m(\u001B[0m\u001B[0;36m1.0\u001B[0m \u001B[0;34m+\u001B[0m \u001B[0mx\u001B[0m\u001B[0;34m[\u001B[0m\u001B[0;36m0\u001B[0m\u001B[0;34m]\u001B[0m \u001B[0;34m+\u001B[0m \u001B[0my\u001B[0m\u001B[0;34m[\u001B[0m\u001B[0;36m0\u001B[0m\u001B[0;34m]\u001B[0m\u001B[0;34m)\u001B[0m\u001B[0;34m\u001B[0m\u001B[0;34m\u001B[0m\u001B[0m\n\u001B[0m\u001B[1;32m   4775\u001B[0m \u001B[0;34m\u001B[0m\u001B[0m\n\u001B[1;32m   4776\u001B[0m     \u001B[0;32mif\u001B[0m \u001B[0mn\u001B[0m \u001B[0;34m==\u001B[0m \u001B[0;36m2\u001B[0m\u001B[0;34m:\u001B[0m\u001B[0;34m\u001B[0m\u001B[0;34m\u001B[0m\u001B[0m\n\u001B[1;32m   4777\u001B[0m         \u001B[0mr\u001B[0m \u001B[0;34m=\u001B[0m \u001B[0mdtype\u001B[0m\u001B[0;34m(\u001B[0m\u001B[0mnp\u001B[0m\u001B[0;34m.\u001B[0m\u001B[0msign\u001B[0m\u001B[0;34m(\u001B[0m\u001B[0mx\u001B[0m\u001B[0;34m[\u001B[0m\u001B[0;36m1\u001B[0m\u001B[0;34m]\u001B[0m \u001B[0;34m-\u001B[0m \u001B[0mx\u001B[0m\u001B[0;34m[\u001B[0m\u001B[0;36m0\u001B[0m\u001B[0;34m]\u001B[0m\u001B[0;34m)\u001B[0m\u001B[0;34m*\u001B[0m\u001B[0mnp\u001B[0m\u001B[0;34m.\u001B[0m\u001B[0msign\u001B[0m\u001B[0;34m(\u001B[0m\u001B[0my\u001B[0m\u001B[0;34m[\u001B[0m\u001B[0;36m1\u001B[0m\u001B[0;34m]\u001B[0m \u001B[0;34m-\u001B[0m \u001B[0my\u001B[0m\u001B[0;34m[\u001B[0m\u001B[0;36m0\u001B[0m\u001B[0;34m]\u001B[0m\u001B[0;34m)\u001B[0m\u001B[0;34m)\u001B[0m\u001B[0;34m\u001B[0m\u001B[0;34m\u001B[0m\u001B[0m\n",
      "\u001B[0;31mUFuncTypeError\u001B[0m: ufunc 'add' did not contain a loop with signature matching types (dtype('float64'), dtype('<U2')) -> None"
     ]
    }
   ],
   "execution_count": 14
  },
  {
   "metadata": {
    "ExecuteTime": {
     "end_time": "2024-07-29T03:12:13.726710Z",
     "start_time": "2024-07-29T03:12:13.714347Z"
    }
   },
   "cell_type": "code",
   "source": [
    "from scipy.stats import f_oneway\n",
    "anova_results={}\n",
    "\n",
    "for feature in features:\n",
    "    groups=[data[feature][data[\"Label\"]==category] for category in data[\"Label\"].cat.categories]\n",
    "    f_stat, p_value=f_oneway(*groups)\n",
    "    anova_results[feature]={\"f_stat\": f_stat, \"p_value\": p_value}\n",
    "\n",
    "for feature, stats in anova_results.items():\n",
    "    print(f\"Feature: {feature}, F-statistic: {stats['f_stat']:.2f}, p-value: {stats['p_value']:.3f}\")"
   ],
   "id": "dd43d603677eaf78",
   "outputs": [
    {
     "name": "stdout",
     "output_type": "stream",
     "text": [
      "Feature: AccX, F-statistic: 6.58, p-value: 0.001\n",
      "Feature: AccY, F-statistic: 874.56, p-value: 0.000\n",
      "Feature: AccZ, F-statistic: 6833.87, p-value: 0.000\n",
      "Feature: GyroX, F-statistic: 2670.25, p-value: 0.000\n",
      "Feature: GyroY, F-statistic: 5309.49, p-value: 0.000\n",
      "Feature: GyroZ, F-statistic: 1765.47, p-value: 0.000\n"
     ]
    }
   ],
   "execution_count": 24
  },
  {
   "metadata": {},
   "cell_type": "code",
   "outputs": [],
   "execution_count": null,
   "source": [
    "anova_results = {}\n",
    "\n",
    "for feature in features:\n",
    "    groups = [df[feature][df['Label'] == category] for category in df['Label'].cat.categories]\n",
    "    f_stat, p_value = f_oneway(*groups)\n",
    "    anova_results[feature] = {'f_stat': f_stat, 'p_value': p_value}\n",
    "\n",
    "# Display results\n",
    "for feature, stats in anova_results.items():\n",
    "    print(f\"Feature: {feature}, F-statistic: {stats['f_stat']:.2f}, p-value: {stats['p_value']:.3f}\")"
   ],
   "id": "598f21c5eb9cd77c"
  }
 ],
 "metadata": {
  "kernelspec": {
   "display_name": "Python 3",
   "language": "python",
   "name": "python3"
  },
  "language_info": {
   "codemirror_mode": {
    "name": "ipython",
    "version": 2
   },
   "file_extension": ".py",
   "mimetype": "text/x-python",
   "name": "python",
   "nbconvert_exporter": "python",
   "pygments_lexer": "ipython2",
   "version": "2.7.6"
  }
 },
 "nbformat": 4,
 "nbformat_minor": 5
}
