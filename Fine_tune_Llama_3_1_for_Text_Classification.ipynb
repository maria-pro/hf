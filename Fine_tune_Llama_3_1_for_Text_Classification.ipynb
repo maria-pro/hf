{
  "metadata": {
    "kernelspec": {
      "language": "python",
      "display_name": "Python 3",
      "name": "python3"
    },
    "language_info": {
      "name": "python",
      "version": "3.10.13",
      "mimetype": "text/x-python",
      "codemirror_mode": {
        "name": "ipython",
        "version": 3
      },
      "pygments_lexer": "ipython3",
      "nbconvert_exporter": "python",
      "file_extension": ".py"
    },
    "kaggle": {
      "accelerator": "gpu",
      "dataSources": [
        {
          "sourceId": 8870083,
          "sourceType": "datasetVersion",
          "datasetId": 5338273
        },
        {
          "sourceId": 81881,
          "sourceType": "modelInstanceVersion",
          "modelInstanceId": 68809,
          "modelId": 91102
        }
      ],
      "dockerImageVersionId": 30747,
      "isInternetEnabled": true,
      "language": "python",
      "sourceType": "notebook",
      "isGpuEnabled": true
    },
    "colab": {
      "name": "Fine-tune Llama 3.1 for Text Classification",
      "provenance": [],
      "include_colab_link": true
    }
  },
  "nbformat_minor": 0,
  "nbformat": 4,
  "cells": [
    {
      "cell_type": "markdown",
      "metadata": {
        "id": "view-in-github",
        "colab_type": "text"
      },
      "source": [
        "<a href=\"https://colab.research.google.com/github/maria-pro/hf/blob/main/Fine_tune_Llama_3_1_for_Text_Classification.ipynb\" target=\"_parent\"><img src=\"https://colab.research.google.com/assets/colab-badge.svg\" alt=\"Open In Colab\"/></a>"
      ]
    },
    {
      "source": [
        "\n",
        "# IMPORTANT: RUN THIS CELL IN ORDER TO IMPORT YOUR KAGGLE DATA SOURCES\n",
        "# TO THE CORRECT LOCATION (/kaggle/input) IN YOUR NOTEBOOK,\n",
        "# THEN FEEL FREE TO DELETE THIS CELL.\n",
        "# NOTE: THIS NOTEBOOK ENVIRONMENT DIFFERS FROM KAGGLE'S PYTHON\n",
        "# ENVIRONMENT SO THERE MAY BE MISSING LIBRARIES USED BY YOUR\n",
        "# NOTEBOOK.\n",
        "\n",
        "import os\n",
        "import sys\n",
        "from tempfile import NamedTemporaryFile\n",
        "from urllib.request import urlopen\n",
        "from urllib.parse import unquote, urlparse\n",
        "from urllib.error import HTTPError\n",
        "from zipfile import ZipFile\n",
        "import tarfile\n",
        "import shutil\n",
        "\n",
        "CHUNK_SIZE = 40960\n",
        "DATA_SOURCE_MAPPING = 'sentiment-analysis-for-mental-health:https%3A%2F%2Fstorage.googleapis.com%2Fkaggle-data-sets%2F5338273%2F8870083%2Fbundle%2Farchive.zip%3FX-Goog-Algorithm%3DGOOG4-RSA-SHA256%26X-Goog-Credential%3Dgcp-kaggle-com%2540kaggle-161607.iam.gserviceaccount.com%252F20240819%252Fauto%252Fstorage%252Fgoog4_request%26X-Goog-Date%3D20240819T060631Z%26X-Goog-Expires%3D259200%26X-Goog-SignedHeaders%3Dhost%26X-Goog-Signature%3D10c850f2fe118765190c4f9af584415b52737c80d5fe8e4a7e5c77667d5b980333f24bd53c69a0437c96139db8414cc6b9cf5e9244f5c7e247b1735ffe93312ce540010a34c938c502f0568c709f8504c1de8c79f500e563a5e912c3a4956177863408fd3a268b6d22478dbc66009fc3b02746d236b12c9139eb271de08f2c388484f355b91e9230180e6c7fabef7db60f725b762d36df3fb6dece2e0e0f3ecbc166ad6f9952bfee3892f4a152e1d0ba2ec5b448a6c1156d23f745b7912087996d1635333359cecfb779d8e464599e50ae46934f2ae97f7ce1d3d3c1e27626c8641ab9a295f24f590a967639f77b664ec063be5047245f720d5a1a506b574a0e,llama-3.1/transformers/8b-instruct/1:https%3A%2F%2Fstorage.googleapis.com%2Fkaggle-models-data%2F68809%2F81881%2Fbundle%2Farchive.tar.gz%3FX-Goog-Algorithm%3DGOOG4-RSA-SHA256%26X-Goog-Credential%3Dgcp-kaggle-com%2540kaggle-161607.iam.gserviceaccount.com%252F20240819%252Fauto%252Fstorage%252Fgoog4_request%26X-Goog-Date%3D20240819T060631Z%26X-Goog-Expires%3D259200%26X-Goog-SignedHeaders%3Dhost%26X-Goog-Signature%3D949d51694692a0025f08cd8b77e41c8d4ab61fcb413453c5b04985343fea0401ad5d1b43921a9ba260b892e503e3765639026fa7beea624ae0c5367e61da067cef9a47202155c05581d039e835318200108f7f594c0e1068dbd203fe53b5a40b46bc1f05d79c8bc7987750ef00d726887192b8421c08f5d3b9d46dd63f2f67f7ae06da1d0b09bff606921b31bcf696afd3a6e2263f2df7a5e98701db563535c1027c23f7a73f9e5108857ff7c5826420a4baa6010c45825d13922754c6e350b1d71983fbdd0eaaab9d3af85ffd6311fa8f8edcfd0f14e83d7883c1f132a6ef86de0613a8d51fb32ce71a119000873a9f2955060fff795d05fab6224139a61bc8'\n",
        "\n",
        "KAGGLE_INPUT_PATH='/kaggle/input'\n",
        "KAGGLE_WORKING_PATH='/kaggle/working'\n",
        "KAGGLE_SYMLINK='kaggle'\n",
        "\n",
        "!umount /kaggle/input/ 2> /dev/null\n",
        "shutil.rmtree('/kaggle/input', ignore_errors=True)\n",
        "os.makedirs(KAGGLE_INPUT_PATH, 0o777, exist_ok=True)\n",
        "os.makedirs(KAGGLE_WORKING_PATH, 0o777, exist_ok=True)\n",
        "\n",
        "try:\n",
        "  os.symlink(KAGGLE_INPUT_PATH, os.path.join(\"..\", 'input'), target_is_directory=True)\n",
        "except FileExistsError:\n",
        "  pass\n",
        "try:\n",
        "  os.symlink(KAGGLE_WORKING_PATH, os.path.join(\"..\", 'working'), target_is_directory=True)\n",
        "except FileExistsError:\n",
        "  pass\n",
        "\n",
        "for data_source_mapping in DATA_SOURCE_MAPPING.split(','):\n",
        "    directory, download_url_encoded = data_source_mapping.split(':')\n",
        "    download_url = unquote(download_url_encoded)\n",
        "    filename = urlparse(download_url).path\n",
        "    destination_path = os.path.join(KAGGLE_INPUT_PATH, directory)\n",
        "    try:\n",
        "        with urlopen(download_url) as fileres, NamedTemporaryFile() as tfile:\n",
        "            total_length = fileres.headers['content-length']\n",
        "            print(f'Downloading {directory}, {total_length} bytes compressed')\n",
        "            dl = 0\n",
        "            data = fileres.read(CHUNK_SIZE)\n",
        "            while len(data) > 0:\n",
        "                dl += len(data)\n",
        "                tfile.write(data)\n",
        "                done = int(50 * dl / int(total_length))\n",
        "                sys.stdout.write(f\"\\r[{'=' * done}{' ' * (50-done)}] {dl} bytes downloaded\")\n",
        "                sys.stdout.flush()\n",
        "                data = fileres.read(CHUNK_SIZE)\n",
        "            if filename.endswith('.zip'):\n",
        "              with ZipFile(tfile) as zfile:\n",
        "                zfile.extractall(destination_path)\n",
        "            else:\n",
        "              with tarfile.open(tfile.name) as tarfile:\n",
        "                tarfile.extractall(destination_path)\n",
        "            print(f'\\nDownloaded and uncompressed: {directory}')\n",
        "    except HTTPError as e:\n",
        "        print(f'Failed to load (likely expired) {download_url} to path {destination_path}')\n",
        "        continue\n",
        "    except OSError as e:\n",
        "        print(f'Failed to load {download_url} to path {destination_path}')\n",
        "        continue\n",
        "\n",
        "print('Data source import complete.')\n"
      ],
      "metadata": {
        "id": "4J_b4y9SPpHA"
      },
      "cell_type": "code",
      "outputs": [],
      "execution_count": null
    },
    {
      "cell_type": "markdown",
      "source": [
        "## Setting up"
      ],
      "metadata": {
        "id": "CfTEIkiWPpHB"
      }
    },
    {
      "cell_type": "code",
      "source": [
        "%%capture\n",
        "%pip install -U bitsandbytes\n",
        "%pip install -U transformers\n",
        "%pip install -U accelerate\n",
        "%pip install -U peft\n",
        "%pip install -U trl"
      ],
      "metadata": {
        "_uuid": "8f2839f25d086af736a60e9eeb907d3b93b6e0e5",
        "_cell_guid": "b1076dfc-b9ad-4769-8c92-a6c4dae69d19",
        "trusted": true,
        "id": "XUvTrk5_PpHC"
      },
      "execution_count": null,
      "outputs": []
    },
    {
      "cell_type": "code",
      "source": [
        "import wandb\n",
        "\n",
        "from kaggle_secrets import UserSecretsClient\n",
        "user_secrets = UserSecretsClient()\n",
        "\n",
        "wb_token = user_secrets.get_secret(\"wandb\")\n",
        "\n",
        "wandb.login(key=wb_token)\n",
        "run = wandb.init(\n",
        "    project='Fine-tune llama-3.1-8b-it on Sentiment Analysis Dataset',\n",
        "    job_type=\"training\",\n",
        "    anonymous=\"allow\"\n",
        ")"
      ],
      "metadata": {
        "execution": {
          "iopub.status.busy": "2024-07-28T09:23:32.22372Z",
          "iopub.execute_input": "2024-07-28T09:23:32.224353Z",
          "iopub.status.idle": "2024-07-28T09:23:53.209504Z",
          "shell.execute_reply.started": "2024-07-28T09:23:32.22432Z",
          "shell.execute_reply": "2024-07-28T09:23:53.208496Z"
        },
        "trusted": true,
        "id": "9IuMxFe2PpHC"
      },
      "execution_count": null,
      "outputs": []
    },
    {
      "cell_type": "code",
      "source": [
        "import numpy as np\n",
        "import pandas as pd\n",
        "import os\n",
        "from tqdm import tqdm\n",
        "import bitsandbytes as bnb\n",
        "import torch\n",
        "import torch.nn as nn\n",
        "import transformers\n",
        "from datasets import Dataset\n",
        "from peft import LoraConfig, PeftConfig\n",
        "from trl import SFTTrainer\n",
        "from trl import setup_chat_format\n",
        "from transformers import (AutoModelForCausalLM,\n",
        "                          AutoTokenizer,\n",
        "                          BitsAndBytesConfig,\n",
        "                          TrainingArguments,\n",
        "                          pipeline,\n",
        "                          logging)\n",
        "from sklearn.metrics import (accuracy_score,\n",
        "                             classification_report,\n",
        "                             confusion_matrix)\n",
        "from sklearn.model_selection import train_test_split"
      ],
      "metadata": {
        "execution": {
          "iopub.status.busy": "2024-07-28T09:23:53.211379Z",
          "iopub.execute_input": "2024-07-28T09:23:53.211779Z",
          "iopub.status.idle": "2024-07-28T09:24:01.954408Z",
          "shell.execute_reply.started": "2024-07-28T09:23:53.211743Z",
          "shell.execute_reply": "2024-07-28T09:24:01.953379Z"
        },
        "trusted": true,
        "id": "dQutU-4iPpHC"
      },
      "execution_count": null,
      "outputs": []
    },
    {
      "cell_type": "markdown",
      "source": [
        "## Loading and processing the dataset"
      ],
      "metadata": {
        "id": "Yq8J5RVHPpHC"
      }
    },
    {
      "cell_type": "code",
      "source": [
        "df = pd.read_csv(\"/kaggle/input/sentiment-analysis-for-mental-health/Combined Data.csv\",index_col = \"Unnamed: 0\")\n",
        "df.loc[:,'status'] = df.loc[:,'status'].str.replace('Bi-Polar','Bipolar')\n",
        "df = df[(df.status != \"Personality disorder\") & (df.status != \"Stress\") & (df.status != \"Suicidal\")]\n",
        "df.head()"
      ],
      "metadata": {
        "execution": {
          "iopub.status.busy": "2024-07-28T09:24:09.116527Z",
          "iopub.execute_input": "2024-07-28T09:24:09.11753Z",
          "iopub.status.idle": "2024-07-28T09:24:10.168474Z",
          "shell.execute_reply.started": "2024-07-28T09:24:09.117493Z",
          "shell.execute_reply": "2024-07-28T09:24:10.167467Z"
        },
        "trusted": true,
        "id": "NOazVWbFPpHD"
      },
      "execution_count": null,
      "outputs": []
    },
    {
      "cell_type": "code",
      "source": [
        "# Shuffle the DataFrame and select only 3000 rows\n",
        "df = df.sample(frac=1, random_state=85).reset_index(drop=True).head(3000)\n",
        "\n",
        "# Split the DataFrame\n",
        "train_size = 0.8\n",
        "eval_size = 0.1\n",
        "\n",
        "# Calculate sizes\n",
        "train_end = int(train_size * len(df))\n",
        "eval_end = train_end + int(eval_size * len(df))\n",
        "\n",
        "# Split the data\n",
        "X_train = df[:train_end]\n",
        "X_eval = df[train_end:eval_end]\n",
        "X_test = df[eval_end:]\n",
        "\n",
        "# Define the prompt generation functions\n",
        "def generate_prompt(data_point):\n",
        "    return f\"\"\"\n",
        "            Classify the text into Normal, Depression, Anxiety, Bipolar, and return the answer as the corresponding mental health disorder label.\n",
        "text: {data_point[\"statement\"]}\n",
        "label: {data_point[\"status\"]}\"\"\".strip()\n",
        "\n",
        "def generate_test_prompt(data_point):\n",
        "    return f\"\"\"\n",
        "            Classify the text into Normal, Depression, Anxiety, Bipolar, and return the answer as the corresponding mental health disorder label.\n",
        "text: {data_point[\"statement\"]}\n",
        "label: \"\"\".strip()\n",
        "\n",
        "# Generate prompts for training and evaluation data\n",
        "X_train.loc[:,'text'] = X_train.apply(generate_prompt, axis=1)\n",
        "X_eval.loc[:,'text'] = X_eval.apply(generate_prompt, axis=1)\n",
        "\n",
        "# Generate test prompts and extract true labels\n",
        "y_true = X_test.loc[:,'status']\n",
        "X_test = pd.DataFrame(X_test.apply(generate_test_prompt, axis=1), columns=[\"text\"])\n",
        "\n"
      ],
      "metadata": {
        "execution": {
          "iopub.status.busy": "2024-07-28T09:24:10.170755Z",
          "iopub.execute_input": "2024-07-28T09:24:10.171119Z",
          "iopub.status.idle": "2024-07-28T09:24:10.895628Z",
          "shell.execute_reply.started": "2024-07-28T09:24:10.171089Z",
          "shell.execute_reply": "2024-07-28T09:24:10.894571Z"
        },
        "trusted": true,
        "id": "MAxNUAdNPpHD"
      },
      "execution_count": null,
      "outputs": []
    },
    {
      "cell_type": "code",
      "source": [
        "X_train.status.value_counts()"
      ],
      "metadata": {
        "execution": {
          "iopub.status.busy": "2024-07-28T09:24:10.897052Z",
          "iopub.execute_input": "2024-07-28T09:24:10.89742Z",
          "iopub.status.idle": "2024-07-28T09:24:11.434802Z",
          "shell.execute_reply.started": "2024-07-28T09:24:10.897385Z",
          "shell.execute_reply": "2024-07-28T09:24:11.433661Z"
        },
        "trusted": true,
        "id": "4NLkU_OVPpHD"
      },
      "execution_count": null,
      "outputs": []
    },
    {
      "cell_type": "code",
      "source": [
        "y_true.value_counts()"
      ],
      "metadata": {
        "execution": {
          "iopub.status.busy": "2024-07-28T09:24:11.436043Z",
          "iopub.execute_input": "2024-07-28T09:24:11.436336Z",
          "iopub.status.idle": "2024-07-28T09:24:12.028956Z",
          "shell.execute_reply.started": "2024-07-28T09:24:11.436309Z",
          "shell.execute_reply": "2024-07-28T09:24:12.028175Z"
        },
        "trusted": true,
        "id": "pbdi9UuWPpHD"
      },
      "execution_count": null,
      "outputs": []
    },
    {
      "cell_type": "code",
      "source": [
        "# Convert to datasets\n",
        "train_data = Dataset.from_pandas(X_train[[\"text\"]])\n",
        "eval_data = Dataset.from_pandas(X_eval[[\"text\"]])"
      ],
      "metadata": {
        "execution": {
          "iopub.status.busy": "2024-07-28T09:24:12.031166Z",
          "iopub.execute_input": "2024-07-28T09:24:12.031454Z",
          "iopub.status.idle": "2024-07-28T09:24:12.624628Z",
          "shell.execute_reply.started": "2024-07-28T09:24:12.031428Z",
          "shell.execute_reply": "2024-07-28T09:24:12.623595Z"
        },
        "trusted": true,
        "id": "6Qb05LXUPpHD"
      },
      "execution_count": null,
      "outputs": []
    },
    {
      "cell_type": "code",
      "source": [
        "train_data['text'][3]"
      ],
      "metadata": {
        "execution": {
          "iopub.status.busy": "2024-07-28T09:24:12.625976Z",
          "iopub.execute_input": "2024-07-28T09:24:12.626339Z",
          "iopub.status.idle": "2024-07-28T09:24:13.351936Z",
          "shell.execute_reply.started": "2024-07-28T09:24:12.626305Z",
          "shell.execute_reply": "2024-07-28T09:24:13.35103Z"
        },
        "trusted": true,
        "id": "0LtuJLKPPpHD"
      },
      "execution_count": null,
      "outputs": []
    },
    {
      "cell_type": "markdown",
      "source": [
        "## Loading the model and tokenizer"
      ],
      "metadata": {
        "id": "BvHDViurPpHE"
      }
    },
    {
      "cell_type": "code",
      "source": [
        "base_model_name = \"/kaggle/input/llama-3.1/transformers/8b-instruct/1\"\n",
        "\n",
        "bnb_config = BitsAndBytesConfig(\n",
        "    load_in_4bit=True,\n",
        "    bnb_4bit_use_double_quant=False,\n",
        "    bnb_4bit_quant_type=\"nf4\",\n",
        "    bnb_4bit_compute_dtype=\"float16\",\n",
        ")\n",
        "\n",
        "model = AutoModelForCausalLM.from_pretrained(\n",
        "    base_model_name,\n",
        "    device_map=\"auto\",\n",
        "    torch_dtype=\"float16\",\n",
        "    quantization_config=bnb_config,\n",
        ")\n",
        "\n",
        "model.config.use_cache = False\n",
        "model.config.pretraining_tp = 1"
      ],
      "metadata": {
        "execution": {
          "iopub.status.busy": "2024-07-28T09:24:13.353242Z",
          "iopub.execute_input": "2024-07-28T09:24:13.353564Z",
          "iopub.status.idle": "2024-07-28T09:24:29.48459Z",
          "shell.execute_reply.started": "2024-07-28T09:24:13.35353Z",
          "shell.execute_reply": "2024-07-28T09:24:29.483638Z"
        },
        "trusted": true,
        "id": "smfR8C8KPpHE"
      },
      "execution_count": null,
      "outputs": []
    },
    {
      "cell_type": "code",
      "source": [
        "tokenizer = AutoTokenizer.from_pretrained(base_model_name)\n",
        "\n",
        "tokenizer.pad_token_id = tokenizer.eos_token_id"
      ],
      "metadata": {
        "execution": {
          "iopub.status.busy": "2024-07-28T09:24:29.485994Z",
          "iopub.execute_input": "2024-07-28T09:24:29.486508Z",
          "iopub.status.idle": "2024-07-28T09:24:30.634685Z",
          "shell.execute_reply.started": "2024-07-28T09:24:29.486472Z",
          "shell.execute_reply": "2024-07-28T09:24:30.633852Z"
        },
        "trusted": true,
        "id": "YaCuqrmdPpHE"
      },
      "execution_count": null,
      "outputs": []
    },
    {
      "cell_type": "markdown",
      "source": [
        "## Model evalution before fine-tuning"
      ],
      "metadata": {
        "id": "ra6SgfBGPpHE"
      }
    },
    {
      "cell_type": "code",
      "source": [
        "def predict(test, model, tokenizer):\n",
        "    y_pred = []\n",
        "    categories = [\"Normal\", \"Depression\", \"Anxiety\", \"Bipolar\"]\n",
        "\n",
        "    for i in tqdm(range(len(test))):\n",
        "        prompt = test.iloc[i][\"text\"]\n",
        "        pipe = pipeline(task=\"text-generation\",\n",
        "                        model=model,\n",
        "                        tokenizer=tokenizer,\n",
        "                        max_new_tokens=2,\n",
        "                        temperature=0.1)\n",
        "\n",
        "        result = pipe(prompt)\n",
        "        answer = result[0]['generated_text'].split(\"label:\")[-1].strip()\n",
        "\n",
        "        # Determine the predicted category\n",
        "        for category in categories:\n",
        "            if category.lower() in answer.lower():\n",
        "                y_pred.append(category)\n",
        "                break\n",
        "        else:\n",
        "            y_pred.append(\"none\")\n",
        "\n",
        "    return y_pred"
      ],
      "metadata": {
        "execution": {
          "iopub.status.busy": "2024-07-28T09:24:30.635824Z",
          "iopub.execute_input": "2024-07-28T09:24:30.636113Z",
          "iopub.status.idle": "2024-07-28T09:24:31.159569Z",
          "shell.execute_reply.started": "2024-07-28T09:24:30.636087Z",
          "shell.execute_reply": "2024-07-28T09:24:31.158392Z"
        },
        "trusted": true,
        "id": "0q7DnLzRPpHE"
      },
      "execution_count": null,
      "outputs": []
    },
    {
      "cell_type": "code",
      "source": [
        "y_pred = predict(X_test, model, tokenizer)"
      ],
      "metadata": {
        "execution": {
          "iopub.status.busy": "2024-07-28T09:24:31.16072Z",
          "iopub.execute_input": "2024-07-28T09:24:31.161064Z",
          "iopub.status.idle": "2024-07-28T09:29:15.564775Z",
          "shell.execute_reply.started": "2024-07-28T09:24:31.161032Z",
          "shell.execute_reply": "2024-07-28T09:29:15.563803Z"
        },
        "trusted": true,
        "id": "jM4jJg_DPpHE"
      },
      "execution_count": null,
      "outputs": []
    },
    {
      "cell_type": "code",
      "source": [
        "def evaluate(y_true, y_pred):\n",
        "    labels = [\"Normal\", \"Depression\", \"Anxiety\", \"Bipolar\"]\n",
        "    mapping = {label: idx for idx, label in enumerate(labels)}\n",
        "\n",
        "    def map_func(x):\n",
        "        return mapping.get(x, -1)  # Map to -1 if not found, but should not occur with correct data\n",
        "\n",
        "    y_true_mapped = np.vectorize(map_func)(y_true)\n",
        "    y_pred_mapped = np.vectorize(map_func)(y_pred)\n",
        "\n",
        "    # Calculate accuracy\n",
        "    accuracy = accuracy_score(y_true=y_true_mapped, y_pred=y_pred_mapped)\n",
        "    print(f'Accuracy: {accuracy:.3f}')\n",
        "\n",
        "    # Generate accuracy report\n",
        "    unique_labels = set(y_true_mapped)  # Get unique labels\n",
        "\n",
        "    for label in unique_labels:\n",
        "        label_indices = [i for i in range(len(y_true_mapped)) if y_true_mapped[i] == label]\n",
        "        label_y_true = [y_true_mapped[i] for i in label_indices]\n",
        "        label_y_pred = [y_pred_mapped[i] for i in label_indices]\n",
        "        label_accuracy = accuracy_score(label_y_true, label_y_pred)\n",
        "        print(f'Accuracy for label {labels[label]}: {label_accuracy:.3f}')\n",
        "\n",
        "    # Generate classification report\n",
        "    class_report = classification_report(y_true=y_true_mapped, y_pred=y_pred_mapped, target_names=labels, labels=list(range(len(labels))))\n",
        "    print('\\nClassification Report:')\n",
        "    print(class_report)\n",
        "\n",
        "    # Generate confusion matrix\n",
        "    conf_matrix = confusion_matrix(y_true=y_true_mapped, y_pred=y_pred_mapped, labels=list(range(len(labels))))\n",
        "    print('\\nConfusion Matrix:')\n",
        "    print(conf_matrix)"
      ],
      "metadata": {
        "execution": {
          "iopub.status.busy": "2024-07-28T09:29:15.566222Z",
          "iopub.execute_input": "2024-07-28T09:29:15.566595Z",
          "iopub.status.idle": "2024-07-28T09:29:16.125323Z",
          "shell.execute_reply.started": "2024-07-28T09:29:15.566554Z",
          "shell.execute_reply": "2024-07-28T09:29:16.124517Z"
        },
        "trusted": true,
        "id": "DBKmipqAPpHE"
      },
      "execution_count": null,
      "outputs": []
    },
    {
      "cell_type": "code",
      "source": [
        "evaluate(y_true, y_pred)"
      ],
      "metadata": {
        "execution": {
          "iopub.status.busy": "2024-07-28T09:29:16.126408Z",
          "iopub.execute_input": "2024-07-28T09:29:16.126707Z",
          "iopub.status.idle": "2024-07-28T09:29:16.796883Z",
          "shell.execute_reply.started": "2024-07-28T09:29:16.126681Z",
          "shell.execute_reply": "2024-07-28T09:29:16.795906Z"
        },
        "trusted": true,
        "id": "B2yAGRZ6PpHE"
      },
      "execution_count": null,
      "outputs": []
    },
    {
      "cell_type": "markdown",
      "source": [
        "## Extracting the linear modules names"
      ],
      "metadata": {
        "id": "CWis3D_4PpHE"
      }
    },
    {
      "cell_type": "code",
      "source": [
        "import bitsandbytes as bnb\n",
        "\n",
        "def find_all_linear_names(model):\n",
        "    cls = bnb.nn.Linear4bit\n",
        "    lora_module_names = set()\n",
        "    for name, module in model.named_modules():\n",
        "        if isinstance(module, cls):\n",
        "            names = name.split('.')\n",
        "            lora_module_names.add(names[0] if len(names) == 1 else names[-1])\n",
        "    if 'lm_head' in lora_module_names:  # needed for 16 bit\n",
        "        lora_module_names.remove('lm_head')\n",
        "    return list(lora_module_names)"
      ],
      "metadata": {
        "execution": {
          "iopub.status.busy": "2024-07-28T09:29:16.798064Z",
          "iopub.execute_input": "2024-07-28T09:29:16.798417Z",
          "iopub.status.idle": "2024-07-28T09:29:17.330552Z",
          "shell.execute_reply.started": "2024-07-28T09:29:16.798384Z",
          "shell.execute_reply": "2024-07-28T09:29:17.329553Z"
        },
        "trusted": true,
        "id": "TNo4flfEPpHE"
      },
      "execution_count": null,
      "outputs": []
    },
    {
      "cell_type": "code",
      "source": [
        "modules = find_all_linear_names(model)\n",
        "modules"
      ],
      "metadata": {
        "execution": {
          "iopub.status.busy": "2024-07-28T09:29:17.333734Z",
          "iopub.execute_input": "2024-07-28T09:29:17.334039Z",
          "iopub.status.idle": "2024-07-28T09:29:17.903144Z",
          "shell.execute_reply.started": "2024-07-28T09:29:17.334013Z",
          "shell.execute_reply": "2024-07-28T09:29:17.902075Z"
        },
        "trusted": true,
        "id": "yeAjI80APpHE"
      },
      "execution_count": null,
      "outputs": []
    },
    {
      "cell_type": "markdown",
      "source": [
        "## Setting up the model"
      ],
      "metadata": {
        "id": "23yY-GnZPpHE"
      }
    },
    {
      "cell_type": "code",
      "source": [
        "output_dir=\"llama-3.1-fine-tuned-model\"\n",
        "\n",
        "peft_config = LoraConfig(\n",
        "    lora_alpha=16,\n",
        "    lora_dropout=0,\n",
        "    r=64,\n",
        "    bias=\"none\",\n",
        "    task_type=\"CAUSAL_LM\",\n",
        "    target_modules=modules,\n",
        ")\n",
        "\n",
        "training_arguments = TrainingArguments(\n",
        "    output_dir=output_dir,                    # directory to save and repository id\n",
        "    num_train_epochs=1,                       # number of training epochs\n",
        "    per_device_train_batch_size=1,            # batch size per device during training\n",
        "    gradient_accumulation_steps=8,            # number of steps before performing a backward/update pass\n",
        "    gradient_checkpointing=True,              # use gradient checkpointing to save memory\n",
        "    optim=\"paged_adamw_32bit\",\n",
        "    logging_steps=1,\n",
        "    learning_rate=2e-4,                       # learning rate, based on QLoRA paper\n",
        "    weight_decay=0.001,\n",
        "    fp16=True,\n",
        "    bf16=False,\n",
        "    max_grad_norm=0.3,                        # max gradient norm based on QLoRA paper\n",
        "    max_steps=-1,\n",
        "    warmup_ratio=0.03,                        # warmup ratio based on QLoRA paper\n",
        "    group_by_length=False,\n",
        "    lr_scheduler_type=\"cosine\",               # use cosine learning rate scheduler\n",
        "    report_to=\"wandb\",                  # report metrics to w&b\n",
        "    eval_strategy=\"steps\",              # save checkpoint every epoch\n",
        "    eval_steps = 0.2\n",
        ")\n",
        "\n",
        "trainer = SFTTrainer(\n",
        "    model=model,\n",
        "    args=training_arguments,\n",
        "    train_dataset=train_data,\n",
        "    eval_dataset=eval_data,\n",
        "    peft_config=peft_config,\n",
        "    dataset_text_field=\"text\",\n",
        "    tokenizer=tokenizer,\n",
        "    max_seq_length=512,\n",
        "    packing=False,\n",
        "    dataset_kwargs={\n",
        "    \"add_special_tokens\": False,\n",
        "    \"append_concat_token\": False,\n",
        "    }\n",
        ")"
      ],
      "metadata": {
        "execution": {
          "iopub.status.busy": "2024-07-28T09:29:17.904544Z",
          "iopub.execute_input": "2024-07-28T09:29:17.905129Z",
          "iopub.status.idle": "2024-07-28T09:29:22.368422Z",
          "shell.execute_reply.started": "2024-07-28T09:29:17.905099Z",
          "shell.execute_reply": "2024-07-28T09:29:22.367477Z"
        },
        "trusted": true,
        "id": "VBJrsBSRPpHE"
      },
      "execution_count": null,
      "outputs": []
    },
    {
      "cell_type": "markdown",
      "source": [
        "## Model Training"
      ],
      "metadata": {
        "id": "vagbHZgWPpHF"
      }
    },
    {
      "cell_type": "code",
      "source": [
        "# Train model\n",
        "trainer.train()"
      ],
      "metadata": {
        "execution": {
          "iopub.status.busy": "2024-07-28T09:29:22.369756Z",
          "iopub.execute_input": "2024-07-28T09:29:22.370044Z",
          "iopub.status.idle": "2024-07-28T09:29:58.883736Z",
          "shell.execute_reply.started": "2024-07-28T09:29:22.370019Z",
          "shell.execute_reply": "2024-07-28T09:29:58.88093Z"
        },
        "trusted": true,
        "id": "1_ZIY2uyPpHF"
      },
      "execution_count": null,
      "outputs": []
    },
    {
      "cell_type": "code",
      "source": [
        "wandb.finish()\n",
        "model.config.use_cache = True"
      ],
      "metadata": {
        "execution": {
          "iopub.status.busy": "2024-07-28T09:29:58.885093Z",
          "iopub.status.idle": "2024-07-28T09:29:58.885585Z",
          "shell.execute_reply.started": "2024-07-28T09:29:58.885335Z",
          "shell.execute_reply": "2024-07-28T09:29:58.885356Z"
        },
        "trusted": true,
        "id": "FUFcKKnZPpHF"
      },
      "execution_count": null,
      "outputs": []
    },
    {
      "cell_type": "markdown",
      "source": [
        "## Saving the model and tokenizer"
      ],
      "metadata": {
        "id": "BJE-ivBePpHF"
      }
    },
    {
      "cell_type": "code",
      "source": [
        "# Save trained model and tokenizer\n",
        "trainer.save_model(output_dir)\n",
        "tokenizer.save_pretrained(output_dir)"
      ],
      "metadata": {
        "execution": {
          "iopub.status.busy": "2024-07-28T09:29:58.887205Z",
          "iopub.status.idle": "2024-07-28T09:29:58.887709Z",
          "shell.execute_reply.started": "2024-07-28T09:29:58.887445Z",
          "shell.execute_reply": "2024-07-28T09:29:58.887467Z"
        },
        "trusted": true,
        "id": "FEewCtAgPpHF"
      },
      "execution_count": null,
      "outputs": []
    },
    {
      "cell_type": "markdown",
      "source": [
        "## Testing model after fine-tuning"
      ],
      "metadata": {
        "id": "r2P3LmMMPpHF"
      }
    },
    {
      "cell_type": "code",
      "source": [
        "y_pred = predict(X_test, model, tokenizer)\n",
        "evaluate(y_true, y_pred)"
      ],
      "metadata": {
        "execution": {
          "iopub.status.busy": "2024-07-28T09:29:58.88899Z",
          "iopub.status.idle": "2024-07-28T09:29:58.889442Z",
          "shell.execute_reply.started": "2024-07-28T09:29:58.889199Z",
          "shell.execute_reply": "2024-07-28T09:29:58.889217Z"
        },
        "trusted": true,
        "id": "Jqe9E8OPPpHF"
      },
      "execution_count": null,
      "outputs": []
    }
  ]
}