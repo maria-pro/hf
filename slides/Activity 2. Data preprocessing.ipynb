{
 "cells": [
  {
   "metadata": {},
   "cell_type": "markdown",
   "source": [
    "# Data preprocessing with Pandas and Numpy\n",
    "\n",
    "Question: we have a dataset \n",
    "Analysing a simple dataset (e.g., a CSV file containg survey responses) using pandas and drawing basic inferences\n",
    "\n",
    "**What we will cover**:\n",
    "\n",
    "- Pandas library overview\n",
    "- loading data \n",
    "dataframes\n",
    "- basic data wrangling: selecting, filtering and summarizing\n",
    "- text \n",
    "\n"
   ],
   "id": "5b86980dff2a5c9"
  },
  {
   "metadata": {},
   "cell_type": "code",
   "outputs": [],
   "execution_count": null,
   "source": "",
   "id": "381c23f4dd13ee06"
  }
 ],
 "metadata": {
  "kernelspec": {
   "display_name": "Python 3",
   "language": "python",
   "name": "python3"
  },
  "language_info": {
   "codemirror_mode": {
    "name": "ipython",
    "version": 2
   },
   "file_extension": ".py",
   "mimetype": "text/x-python",
   "name": "python",
   "nbconvert_exporter": "python",
   "pygments_lexer": "ipython2",
   "version": "2.7.6"
  }
 },
 "nbformat": 4,
 "nbformat_minor": 5
}
