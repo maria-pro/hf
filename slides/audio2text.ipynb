{
 "cells": [
  {
   "metadata": {
    "ExecuteTime": {
     "end_time": "2024-08-11T06:52:29.632237Z",
     "start_time": "2024-08-11T06:52:29.629523Z"
    }
   },
   "cell_type": "code",
   "source": [
    "import os\n",
    "os.environ[\"IMAGEIO_FFMPEG_EXE\"] = \"/Users/e5028514/Downloads/ffmpeg-7.0.2\""
   ],
   "id": "3262b81038418ede",
   "outputs": [],
   "execution_count": 3
  },
  {
   "cell_type": "code",
   "id": "initial_id",
   "metadata": {
    "collapsed": true,
    "ExecuteTime": {
     "end_time": "2024-08-11T07:12:12.468786Z",
     "start_time": "2024-08-11T07:12:10.390900Z"
    }
   },
   "source": [
    "!pip install moviepy SpeechRecognition pydub\n",
    "\n"
   ],
   "outputs": [
    {
     "name": "stdout",
     "output_type": "stream",
     "text": [
      "Requirement already satisfied: moviepy in /Users/e5028514/Desktop/Projects/HF/.venv/lib/python3.9/site-packages (1.0.3)\r\n",
      "Requirement already satisfied: SpeechRecognition in /Users/e5028514/Desktop/Projects/HF/.venv/lib/python3.9/site-packages (3.10.4)\r\n",
      "Collecting pydub\r\n",
      "  Downloading pydub-0.25.1-py2.py3-none-any.whl.metadata (1.4 kB)\r\n",
      "Requirement already satisfied: decorator<5.0,>=4.0.2 in /Users/e5028514/Desktop/Projects/HF/.venv/lib/python3.9/site-packages (from moviepy) (4.4.2)\r\n",
      "Requirement already satisfied: tqdm<5.0,>=4.11.2 in /Users/e5028514/Desktop/Projects/HF/.venv/lib/python3.9/site-packages (from moviepy) (4.66.4)\r\n",
      "Requirement already satisfied: requests<3.0,>=2.8.1 in /Users/e5028514/Desktop/Projects/HF/.venv/lib/python3.9/site-packages (from moviepy) (2.32.3)\r\n",
      "Requirement already satisfied: proglog<=1.0.0 in /Users/e5028514/Desktop/Projects/HF/.venv/lib/python3.9/site-packages (from moviepy) (0.1.10)\r\n",
      "Requirement already satisfied: numpy>=1.17.3 in /Users/e5028514/Desktop/Projects/HF/.venv/lib/python3.9/site-packages (from moviepy) (1.26.4)\r\n",
      "Requirement already satisfied: imageio<3.0,>=2.5 in /Users/e5028514/Desktop/Projects/HF/.venv/lib/python3.9/site-packages (from moviepy) (2.34.2)\r\n",
      "Requirement already satisfied: imageio-ffmpeg>=0.2.0 in /Users/e5028514/Desktop/Projects/HF/.venv/lib/python3.9/site-packages (from moviepy) (0.5.1)\r\n",
      "Requirement already satisfied: typing-extensions in /Users/e5028514/Desktop/Projects/HF/.venv/lib/python3.9/site-packages (from SpeechRecognition) (4.12.2)\r\n",
      "Requirement already satisfied: pillow>=8.3.2 in /Users/e5028514/Desktop/Projects/HF/.venv/lib/python3.9/site-packages (from imageio<3.0,>=2.5->moviepy) (10.3.0)\r\n",
      "Requirement already satisfied: setuptools in /Users/e5028514/Desktop/Projects/HF/.venv/lib/python3.9/site-packages (from imageio-ffmpeg>=0.2.0->moviepy) (68.2.0)\r\n",
      "Requirement already satisfied: charset-normalizer<4,>=2 in /Users/e5028514/Desktop/Projects/HF/.venv/lib/python3.9/site-packages (from requests<3.0,>=2.8.1->moviepy) (3.3.2)\r\n",
      "Requirement already satisfied: idna<4,>=2.5 in /Users/e5028514/Desktop/Projects/HF/.venv/lib/python3.9/site-packages (from requests<3.0,>=2.8.1->moviepy) (3.7)\r\n",
      "Requirement already satisfied: urllib3<3,>=1.21.1 in /Users/e5028514/Desktop/Projects/HF/.venv/lib/python3.9/site-packages (from requests<3.0,>=2.8.1->moviepy) (1.26.16)\r\n",
      "Requirement already satisfied: certifi>=2017.4.17 in /Users/e5028514/Desktop/Projects/HF/.venv/lib/python3.9/site-packages (from requests<3.0,>=2.8.1->moviepy) (2024.6.2)\r\n",
      "Downloading pydub-0.25.1-py2.py3-none-any.whl (32 kB)\r\n",
      "Installing collected packages: pydub\r\n",
      "Successfully installed pydub-0.25.1\r\n"
     ]
    }
   ],
   "execution_count": 14
  },
  {
   "metadata": {
    "ExecuteTime": {
     "end_time": "2024-08-11T07:13:18.550396Z",
     "start_time": "2024-08-11T07:13:18.444660Z"
    }
   },
   "cell_type": "code",
   "source": [
    "import moviepy.editor as mp\n",
    "import speech_recognition as sr\n",
    "from pydub import AudioSegment\n",
    "\n",
    "# Function to extract audio from an .m4v video file\n",
    "def extract_audio_from_video(video_file):\n",
    "    video = mp.VideoFileClip(video_file)\n",
    "    audio_file = \"/Volumes/TOSHIBA EXT/video/hf hub_audio.m4v\"\n",
    "    video.audio.write_audiofile(audio_file)\n",
    "    return audio_file\n",
    "\n",
    "# Convert audio file to WAV format if necessary\n",
    "def convert_to_wav(audio_file):\n",
    "    audio = AudioSegment.from_file(audio_file)\n",
    "    wav_file = \"converted_audio.wav\"\n",
    "    audio.export(wav_file, format=\"wav\")\n",
    "    return wav_file\n",
    "\n",
    "# Transcribe the audio file\n",
    "def transcribe_audio(audio_file):\n",
    "    recognizer = sr.Recognizer()\n",
    "\n",
    "    # Convert to WAV format if it's not already\n",
    "    if not audio_file.endswith('.wav'):\n",
    "        audio_file = convert_to_wav(audio_file)\n",
    "\n",
    "    # Read audio file as source\n",
    "    with sr.AudioFile(audio_file) as source:\n",
    "        audio_data = recognizer.record(source)\n",
    "        text = recognizer.recognize_google(audio_data)\n",
    "        return text\n",
    "\n",
    "# Specify the path to your .m4v video file\n",
    "video_path = \"your_video_file.m4v\"  # Replace with your file path\n",
    "\n",
    "# Extract audio and transcribe\n",
    "extracted_audio = extract_audio_from_video(video_path)\n",
    "transcribed_text = transcribe_audio(extracted_audio)\n",
    "\n",
    "# Print the transcription\n",
    "print(\"Transcription: \", transcribed_text)\n"
   ],
   "id": "4d90de4c3354b458",
   "outputs": [
    {
     "ename": "PermissionError",
     "evalue": "[Errno 13] Permission denied: '/Users/e5028514/Downloads/ffmpeg-7.0.2'",
     "output_type": "error",
     "traceback": [
      "\u001B[0;31m---------------------------------------------------------------------------\u001B[0m",
      "\u001B[0;31mPermissionError\u001B[0m                           Traceback (most recent call last)",
      "Cell \u001B[0;32mIn[15], line 37\u001B[0m\n\u001B[1;32m     34\u001B[0m video_path \u001B[38;5;241m=\u001B[39m \u001B[38;5;124m\"\u001B[39m\u001B[38;5;124myour_video_file.m4v\u001B[39m\u001B[38;5;124m\"\u001B[39m  \u001B[38;5;66;03m# Replace with your file path\u001B[39;00m\n\u001B[1;32m     36\u001B[0m \u001B[38;5;66;03m# Extract audio and transcribe\u001B[39;00m\n\u001B[0;32m---> 37\u001B[0m extracted_audio \u001B[38;5;241m=\u001B[39m \u001B[43mextract_audio_from_video\u001B[49m\u001B[43m(\u001B[49m\u001B[43mvideo_path\u001B[49m\u001B[43m)\u001B[49m\n\u001B[1;32m     38\u001B[0m transcribed_text \u001B[38;5;241m=\u001B[39m transcribe_audio(extracted_audio)\n\u001B[1;32m     40\u001B[0m \u001B[38;5;66;03m# Print the transcription\u001B[39;00m\n",
      "Cell \u001B[0;32mIn[15], line 7\u001B[0m, in \u001B[0;36mextract_audio_from_video\u001B[0;34m(video_file)\u001B[0m\n\u001B[1;32m      6\u001B[0m \u001B[38;5;28;01mdef\u001B[39;00m \u001B[38;5;21mextract_audio_from_video\u001B[39m(video_file):\n\u001B[0;32m----> 7\u001B[0m     video \u001B[38;5;241m=\u001B[39m \u001B[43mmp\u001B[49m\u001B[38;5;241;43m.\u001B[39;49m\u001B[43mVideoFileClip\u001B[49m\u001B[43m(\u001B[49m\u001B[43mvideo_file\u001B[49m\u001B[43m)\u001B[49m\n\u001B[1;32m      8\u001B[0m     audio_file \u001B[38;5;241m=\u001B[39m \u001B[38;5;124m\"\u001B[39m\u001B[38;5;124m/Volumes/TOSHIBA EXT/video/hf hub_audio.m4v\u001B[39m\u001B[38;5;124m\"\u001B[39m\n\u001B[1;32m      9\u001B[0m     video\u001B[38;5;241m.\u001B[39maudio\u001B[38;5;241m.\u001B[39mwrite_audiofile(audio_file)\n",
      "File \u001B[0;32m~/Desktop/Projects/HF/.venv/lib/python3.9/site-packages/moviepy/video/io/VideoFileClip.py:88\u001B[0m, in \u001B[0;36mVideoFileClip.__init__\u001B[0;34m(self, filename, has_mask, audio, audio_buffersize, target_resolution, resize_algorithm, audio_fps, audio_nbytes, verbose, fps_source)\u001B[0m\n\u001B[1;32m     86\u001B[0m \u001B[38;5;66;03m# Make a reader\u001B[39;00m\n\u001B[1;32m     87\u001B[0m pix_fmt \u001B[38;5;241m=\u001B[39m \u001B[38;5;124m\"\u001B[39m\u001B[38;5;124mrgba\u001B[39m\u001B[38;5;124m\"\u001B[39m \u001B[38;5;28;01mif\u001B[39;00m has_mask \u001B[38;5;28;01melse\u001B[39;00m \u001B[38;5;124m\"\u001B[39m\u001B[38;5;124mrgb24\u001B[39m\u001B[38;5;124m\"\u001B[39m\n\u001B[0;32m---> 88\u001B[0m \u001B[38;5;28mself\u001B[39m\u001B[38;5;241m.\u001B[39mreader \u001B[38;5;241m=\u001B[39m \u001B[43mFFMPEG_VideoReader\u001B[49m\u001B[43m(\u001B[49m\u001B[43mfilename\u001B[49m\u001B[43m,\u001B[49m\u001B[43m \u001B[49m\u001B[43mpix_fmt\u001B[49m\u001B[38;5;241;43m=\u001B[39;49m\u001B[43mpix_fmt\u001B[49m\u001B[43m,\u001B[49m\n\u001B[1;32m     89\u001B[0m \u001B[43m                                 \u001B[49m\u001B[43mtarget_resolution\u001B[49m\u001B[38;5;241;43m=\u001B[39;49m\u001B[43mtarget_resolution\u001B[49m\u001B[43m,\u001B[49m\n\u001B[1;32m     90\u001B[0m \u001B[43m                                 \u001B[49m\u001B[43mresize_algo\u001B[49m\u001B[38;5;241;43m=\u001B[39;49m\u001B[43mresize_algorithm\u001B[49m\u001B[43m,\u001B[49m\n\u001B[1;32m     91\u001B[0m \u001B[43m                                 \u001B[49m\u001B[43mfps_source\u001B[49m\u001B[38;5;241;43m=\u001B[39;49m\u001B[43mfps_source\u001B[49m\u001B[43m)\u001B[49m\n\u001B[1;32m     93\u001B[0m \u001B[38;5;66;03m# Make some of the reader's attributes accessible from the clip\u001B[39;00m\n\u001B[1;32m     94\u001B[0m \u001B[38;5;28mself\u001B[39m\u001B[38;5;241m.\u001B[39mduration \u001B[38;5;241m=\u001B[39m \u001B[38;5;28mself\u001B[39m\u001B[38;5;241m.\u001B[39mreader\u001B[38;5;241m.\u001B[39mduration\n",
      "File \u001B[0;32m~/Desktop/Projects/HF/.venv/lib/python3.9/site-packages/moviepy/video/io/ffmpeg_reader.py:35\u001B[0m, in \u001B[0;36mFFMPEG_VideoReader.__init__\u001B[0;34m(self, filename, print_infos, bufsize, pix_fmt, check_duration, target_resolution, resize_algo, fps_source)\u001B[0m\n\u001B[1;32m     33\u001B[0m \u001B[38;5;28mself\u001B[39m\u001B[38;5;241m.\u001B[39mfilename \u001B[38;5;241m=\u001B[39m filename\n\u001B[1;32m     34\u001B[0m \u001B[38;5;28mself\u001B[39m\u001B[38;5;241m.\u001B[39mproc \u001B[38;5;241m=\u001B[39m \u001B[38;5;28;01mNone\u001B[39;00m\n\u001B[0;32m---> 35\u001B[0m infos \u001B[38;5;241m=\u001B[39m \u001B[43mffmpeg_parse_infos\u001B[49m\u001B[43m(\u001B[49m\u001B[43mfilename\u001B[49m\u001B[43m,\u001B[49m\u001B[43m \u001B[49m\u001B[43mprint_infos\u001B[49m\u001B[43m,\u001B[49m\u001B[43m \u001B[49m\u001B[43mcheck_duration\u001B[49m\u001B[43m,\u001B[49m\n\u001B[1;32m     36\u001B[0m \u001B[43m                           \u001B[49m\u001B[43mfps_source\u001B[49m\u001B[43m)\u001B[49m\n\u001B[1;32m     37\u001B[0m \u001B[38;5;28mself\u001B[39m\u001B[38;5;241m.\u001B[39mfps \u001B[38;5;241m=\u001B[39m infos[\u001B[38;5;124m'\u001B[39m\u001B[38;5;124mvideo_fps\u001B[39m\u001B[38;5;124m'\u001B[39m]\n\u001B[1;32m     38\u001B[0m \u001B[38;5;28mself\u001B[39m\u001B[38;5;241m.\u001B[39msize \u001B[38;5;241m=\u001B[39m infos[\u001B[38;5;124m'\u001B[39m\u001B[38;5;124mvideo_size\u001B[39m\u001B[38;5;124m'\u001B[39m]\n",
      "File \u001B[0;32m~/Desktop/Projects/HF/.venv/lib/python3.9/site-packages/moviepy/video/io/ffmpeg_reader.py:257\u001B[0m, in \u001B[0;36mffmpeg_parse_infos\u001B[0;34m(filename, print_infos, check_duration, fps_source)\u001B[0m\n\u001B[1;32m    254\u001B[0m \u001B[38;5;28;01mif\u001B[39;00m os\u001B[38;5;241m.\u001B[39mname \u001B[38;5;241m==\u001B[39m \u001B[38;5;124m\"\u001B[39m\u001B[38;5;124mnt\u001B[39m\u001B[38;5;124m\"\u001B[39m:\n\u001B[1;32m    255\u001B[0m     popen_params[\u001B[38;5;124m\"\u001B[39m\u001B[38;5;124mcreationflags\u001B[39m\u001B[38;5;124m\"\u001B[39m] \u001B[38;5;241m=\u001B[39m \u001B[38;5;241m0x08000000\u001B[39m\n\u001B[0;32m--> 257\u001B[0m proc \u001B[38;5;241m=\u001B[39m \u001B[43msp\u001B[49m\u001B[38;5;241;43m.\u001B[39;49m\u001B[43mPopen\u001B[49m\u001B[43m(\u001B[49m\u001B[43mcmd\u001B[49m\u001B[43m,\u001B[49m\u001B[43m \u001B[49m\u001B[38;5;241;43m*\u001B[39;49m\u001B[38;5;241;43m*\u001B[39;49m\u001B[43mpopen_params\u001B[49m\u001B[43m)\u001B[49m\n\u001B[1;32m    258\u001B[0m (output, error) \u001B[38;5;241m=\u001B[39m proc\u001B[38;5;241m.\u001B[39mcommunicate()\n\u001B[1;32m    259\u001B[0m infos \u001B[38;5;241m=\u001B[39m error\u001B[38;5;241m.\u001B[39mdecode(\u001B[38;5;124m'\u001B[39m\u001B[38;5;124mutf8\u001B[39m\u001B[38;5;124m'\u001B[39m)\n",
      "File \u001B[0;32m/Library/Developer/CommandLineTools/Library/Frameworks/Python3.framework/Versions/3.9/lib/python3.9/subprocess.py:951\u001B[0m, in \u001B[0;36mPopen.__init__\u001B[0;34m(self, args, bufsize, executable, stdin, stdout, stderr, preexec_fn, close_fds, shell, cwd, env, universal_newlines, startupinfo, creationflags, restore_signals, start_new_session, pass_fds, user, group, extra_groups, encoding, errors, text, umask)\u001B[0m\n\u001B[1;32m    947\u001B[0m         \u001B[38;5;28;01mif\u001B[39;00m \u001B[38;5;28mself\u001B[39m\u001B[38;5;241m.\u001B[39mtext_mode:\n\u001B[1;32m    948\u001B[0m             \u001B[38;5;28mself\u001B[39m\u001B[38;5;241m.\u001B[39mstderr \u001B[38;5;241m=\u001B[39m io\u001B[38;5;241m.\u001B[39mTextIOWrapper(\u001B[38;5;28mself\u001B[39m\u001B[38;5;241m.\u001B[39mstderr,\n\u001B[1;32m    949\u001B[0m                     encoding\u001B[38;5;241m=\u001B[39mencoding, errors\u001B[38;5;241m=\u001B[39merrors)\n\u001B[0;32m--> 951\u001B[0m     \u001B[38;5;28;43mself\u001B[39;49m\u001B[38;5;241;43m.\u001B[39;49m\u001B[43m_execute_child\u001B[49m\u001B[43m(\u001B[49m\u001B[43margs\u001B[49m\u001B[43m,\u001B[49m\u001B[43m \u001B[49m\u001B[43mexecutable\u001B[49m\u001B[43m,\u001B[49m\u001B[43m \u001B[49m\u001B[43mpreexec_fn\u001B[49m\u001B[43m,\u001B[49m\u001B[43m \u001B[49m\u001B[43mclose_fds\u001B[49m\u001B[43m,\u001B[49m\n\u001B[1;32m    952\u001B[0m \u001B[43m                        \u001B[49m\u001B[43mpass_fds\u001B[49m\u001B[43m,\u001B[49m\u001B[43m \u001B[49m\u001B[43mcwd\u001B[49m\u001B[43m,\u001B[49m\u001B[43m \u001B[49m\u001B[43menv\u001B[49m\u001B[43m,\u001B[49m\n\u001B[1;32m    953\u001B[0m \u001B[43m                        \u001B[49m\u001B[43mstartupinfo\u001B[49m\u001B[43m,\u001B[49m\u001B[43m \u001B[49m\u001B[43mcreationflags\u001B[49m\u001B[43m,\u001B[49m\u001B[43m \u001B[49m\u001B[43mshell\u001B[49m\u001B[43m,\u001B[49m\n\u001B[1;32m    954\u001B[0m \u001B[43m                        \u001B[49m\u001B[43mp2cread\u001B[49m\u001B[43m,\u001B[49m\u001B[43m \u001B[49m\u001B[43mp2cwrite\u001B[49m\u001B[43m,\u001B[49m\n\u001B[1;32m    955\u001B[0m \u001B[43m                        \u001B[49m\u001B[43mc2pread\u001B[49m\u001B[43m,\u001B[49m\u001B[43m \u001B[49m\u001B[43mc2pwrite\u001B[49m\u001B[43m,\u001B[49m\n\u001B[1;32m    956\u001B[0m \u001B[43m                        \u001B[49m\u001B[43merrread\u001B[49m\u001B[43m,\u001B[49m\u001B[43m \u001B[49m\u001B[43merrwrite\u001B[49m\u001B[43m,\u001B[49m\n\u001B[1;32m    957\u001B[0m \u001B[43m                        \u001B[49m\u001B[43mrestore_signals\u001B[49m\u001B[43m,\u001B[49m\n\u001B[1;32m    958\u001B[0m \u001B[43m                        \u001B[49m\u001B[43mgid\u001B[49m\u001B[43m,\u001B[49m\u001B[43m \u001B[49m\u001B[43mgids\u001B[49m\u001B[43m,\u001B[49m\u001B[43m \u001B[49m\u001B[43muid\u001B[49m\u001B[43m,\u001B[49m\u001B[43m \u001B[49m\u001B[43mumask\u001B[49m\u001B[43m,\u001B[49m\n\u001B[1;32m    959\u001B[0m \u001B[43m                        \u001B[49m\u001B[43mstart_new_session\u001B[49m\u001B[43m)\u001B[49m\n\u001B[1;32m    960\u001B[0m \u001B[38;5;28;01mexcept\u001B[39;00m:\n\u001B[1;32m    961\u001B[0m     \u001B[38;5;66;03m# Cleanup if the child failed starting.\u001B[39;00m\n\u001B[1;32m    962\u001B[0m     \u001B[38;5;28;01mfor\u001B[39;00m f \u001B[38;5;129;01min\u001B[39;00m \u001B[38;5;28mfilter\u001B[39m(\u001B[38;5;28;01mNone\u001B[39;00m, (\u001B[38;5;28mself\u001B[39m\u001B[38;5;241m.\u001B[39mstdin, \u001B[38;5;28mself\u001B[39m\u001B[38;5;241m.\u001B[39mstdout, \u001B[38;5;28mself\u001B[39m\u001B[38;5;241m.\u001B[39mstderr)):\n",
      "File \u001B[0;32m/Library/Developer/CommandLineTools/Library/Frameworks/Python3.framework/Versions/3.9/lib/python3.9/subprocess.py:1821\u001B[0m, in \u001B[0;36mPopen._execute_child\u001B[0;34m(self, args, executable, preexec_fn, close_fds, pass_fds, cwd, env, startupinfo, creationflags, shell, p2cread, p2cwrite, c2pread, c2pwrite, errread, errwrite, restore_signals, gid, gids, uid, umask, start_new_session)\u001B[0m\n\u001B[1;32m   1819\u001B[0m     \u001B[38;5;28;01mif\u001B[39;00m errno_num \u001B[38;5;241m!=\u001B[39m \u001B[38;5;241m0\u001B[39m:\n\u001B[1;32m   1820\u001B[0m         err_msg \u001B[38;5;241m=\u001B[39m os\u001B[38;5;241m.\u001B[39mstrerror(errno_num)\n\u001B[0;32m-> 1821\u001B[0m     \u001B[38;5;28;01mraise\u001B[39;00m child_exception_type(errno_num, err_msg, err_filename)\n\u001B[1;32m   1822\u001B[0m \u001B[38;5;28;01mraise\u001B[39;00m child_exception_type(err_msg)\n",
      "\u001B[0;31mPermissionError\u001B[0m: [Errno 13] Permission denied: '/Users/e5028514/Downloads/ffmpeg-7.0.2'"
     ]
    }
   ],
   "execution_count": 15
  },
  {
   "metadata": {
    "ExecuteTime": {
     "end_time": "2024-08-11T07:15:44.987487Z",
     "start_time": "2024-08-11T07:15:43.911502Z"
    }
   },
   "cell_type": "code",
   "source": [
    "import speech_recognition as sr\n",
    "from pydub import AudioSegment\n",
    "\n",
    "# Convert m4v audio file to WAV format\n",
    "def convert_to_wav(audio_file):\n",
    "    audio = AudioSegment.from_file(audio_file, format=\"m4v\")\n",
    "    wav_file = \"converted_audio.wav\"\n",
    "    audio.export(wav_file, format=\"wav\")\n",
    "    return wav_file\n",
    "\n",
    "# Transcribe the WAV audio file\n",
    "def transcribe_audio(audio_file):\n",
    "    recognizer = sr.Recognizer()\n",
    "\n",
    "    # Convert to WAV format if it's not already\n",
    "    if not audio_file.endswith('.wav'):\n",
    "        audio_file = convert_to_wav(audio_file)\n",
    "\n",
    "    # Read audio file as source\n",
    "    with sr.AudioFile(audio_file) as source:\n",
    "        audio_data = recognizer.record(source)\n",
    "        text = recognizer.recognize_google(audio_data)\n",
    "        return text\n",
    "\n",
    "# Specify the path to your .m4v audio file\n",
    "audio_path = \"/Volumes/TOSHIBA EXT/video/hf hub_audio.m4v\"  # Replace with your file path\n",
    "\n",
    "# Convert and transcribe\n",
    "wav_audio = convert_to_wav(audio_path)\n",
    "transcribed_text = transcribe_audio(wav_audio)\n",
    "\n",
    "# Print the transcription\n",
    "print(\"Transcription: \", transcribed_text)\n"
   ],
   "id": "df80c75c55e21a91",
   "outputs": [
    {
     "ename": "CouldntDecodeError",
     "evalue": "Decoding failed. ffmpeg returned error code: 234\n\nOutput from ffmpeg/avlib:\n\nffmpeg version 7.0.2 Copyright (c) 2000-2024 the FFmpeg developers\n  built with Apple clang version 15.0.0 (clang-1500.3.9.4)\n  configuration: --prefix=/opt/homebrew/Cellar/ffmpeg/7.0.2 --enable-shared --enable-pthreads --enable-version3 --cc=clang --host-cflags= --host-ldflags='-Wl,-ld_classic' --enable-ffplay --enable-gnutls --enable-gpl --enable-libaom --enable-libaribb24 --enable-libbluray --enable-libdav1d --enable-libharfbuzz --enable-libjxl --enable-libmp3lame --enable-libopus --enable-librav1e --enable-librist --enable-librubberband --enable-libsnappy --enable-libsrt --enable-libssh --enable-libsvtav1 --enable-libtesseract --enable-libtheora --enable-libvidstab --enable-libvmaf --enable-libvorbis --enable-libvpx --enable-libwebp --enable-libx264 --enable-libx265 --enable-libxml2 --enable-libxvid --enable-lzma --enable-libfontconfig --enable-libfreetype --enable-frei0r --enable-libass --enable-libopencore-amrnb --enable-libopencore-amrwb --enable-libopenjpeg --enable-libspeex --enable-libsoxr --enable-libzmq --enable-libzimg --disable-libjack --disable-indev=jack --enable-videotoolbox --enable-audiotoolbox --enable-neon\n  libavutil      59.  8.100 / 59.  8.100\n  libavcodec     61.  3.100 / 61.  3.100\n  libavformat    61.  1.100 / 61.  1.100\n  libavdevice    61.  1.100 / 61.  1.100\n  libavfilter    10.  1.100 / 10.  1.100\n  libswscale      8.  1.100 /  8.  1.100\n  libswresample   5.  1.100 /  5.  1.100\n  libpostproc    58.  1.100 / 58.  1.100\n[mpeg4 @ 0x12ba04d70] only rectangular vol supported\n[mpeg4 @ 0x12ba04d70] Marker bit missing at 300192 of 110805992 before time_increment_resolution\n[mpeg4 @ 0x12ba04d70] Marker bit missing at 300209 of 110805992 before fixed_vop_rate\n[mpeg4 @ 0x12ba04d70] Marker bit missing at 300252 of 110805992 in complexity estimation part 2\n[mpeg4 @ 0x12ba04d70] reduced resolution VOP not supported\n[mpeg4 @ 0x12ba04d70] Ignoring multiple VOL headers\n    Last message repeated 138 times\n[mpeg4 @ 0x12ba04d70] Marker bit missing at 101355811 of 110805992 in gop_header\n[mpeg4 @ 0x12ba04d70] Ignoring multiple VOL headers\n    Last message repeated 14 times\n[mpeg4 @ 0x12ba04d70] only rectangular vol supported\n[mpeg4 @ 0x12ba04d70] Marker bit missing at 300192 of 110805992 before time_increment_resolution\n[mpeg4 @ 0x12ba04d70] Marker bit missing at 300209 of 110805992 before fixed_vop_rate\n[mpeg4 @ 0x12ba04d70] Marker bit missing at 300252 of 110805992 in complexity estimation part 2\n[mpeg4 @ 0x12ba04d70] reduced resolution VOP not supported\n[mpeg4 @ 0x12ba04d70] Ignoring multiple VOL headers\n    Last message repeated 138 times\n[mpeg4 @ 0x12ba04d70] Marker bit missing at 101355811 of 110805992 in gop_header\n[mpeg4 @ 0x12ba04d70] Ignoring multiple VOL headers\n    Last message repeated 14 times\n[mpeg4 @ 0x12ba04d70] header damaged\n[m4v @ 0x12ba04500] Stream #0: not enough frames to estimate rate; consider increasing probesize\n[m4v @ 0x12ba04500] Could not find codec parameters for stream 0 (Video: mpeg4 (N-bit Profile), none): unspecified size\nConsider increasing the value for the 'analyzeduration' (0) and 'probesize' (5000000) options\nInput #0, m4v, from '/Volumes/TOSHIBA EXT/video/hf hub_audio.m4v':\n  Duration: N/A, bitrate: N/A\n  Stream #0:0: Video: mpeg4 (N-bit Profile), none, 25 fps, 1 tbr, 1200k tbn\nOutput #0, wav, to 'pipe:':\n[out#0/wav @ 0x60000228c000] Output file does not contain any stream\nError opening output file -.\nError opening output files: Invalid argument\n",
     "output_type": "error",
     "traceback": [
      "\u001B[0;31m---------------------------------------------------------------------------\u001B[0m",
      "\u001B[0;31mCouldntDecodeError\u001B[0m                        Traceback (most recent call last)",
      "Cell \u001B[0;32mIn[16], line 29\u001B[0m\n\u001B[1;32m     26\u001B[0m audio_path \u001B[38;5;241m=\u001B[39m \u001B[38;5;124m\"\u001B[39m\u001B[38;5;124m/Volumes/TOSHIBA EXT/video/hf hub_audio.m4v\u001B[39m\u001B[38;5;124m\"\u001B[39m  \u001B[38;5;66;03m# Replace with your file path\u001B[39;00m\n\u001B[1;32m     28\u001B[0m \u001B[38;5;66;03m# Convert and transcribe\u001B[39;00m\n\u001B[0;32m---> 29\u001B[0m wav_audio \u001B[38;5;241m=\u001B[39m \u001B[43mconvert_to_wav\u001B[49m\u001B[43m(\u001B[49m\u001B[43maudio_path\u001B[49m\u001B[43m)\u001B[49m\n\u001B[1;32m     30\u001B[0m transcribed_text \u001B[38;5;241m=\u001B[39m transcribe_audio(wav_audio)\n\u001B[1;32m     32\u001B[0m \u001B[38;5;66;03m# Print the transcription\u001B[39;00m\n",
      "Cell \u001B[0;32mIn[16], line 6\u001B[0m, in \u001B[0;36mconvert_to_wav\u001B[0;34m(audio_file)\u001B[0m\n\u001B[1;32m      5\u001B[0m \u001B[38;5;28;01mdef\u001B[39;00m \u001B[38;5;21mconvert_to_wav\u001B[39m(audio_file):\n\u001B[0;32m----> 6\u001B[0m     audio \u001B[38;5;241m=\u001B[39m \u001B[43mAudioSegment\u001B[49m\u001B[38;5;241;43m.\u001B[39;49m\u001B[43mfrom_file\u001B[49m\u001B[43m(\u001B[49m\u001B[43maudio_file\u001B[49m\u001B[43m,\u001B[49m\u001B[43m \u001B[49m\u001B[38;5;28;43mformat\u001B[39;49m\u001B[38;5;241;43m=\u001B[39;49m\u001B[38;5;124;43m\"\u001B[39;49m\u001B[38;5;124;43mm4v\u001B[39;49m\u001B[38;5;124;43m\"\u001B[39;49m\u001B[43m)\u001B[49m\n\u001B[1;32m      7\u001B[0m     wav_file \u001B[38;5;241m=\u001B[39m \u001B[38;5;124m\"\u001B[39m\u001B[38;5;124mconverted_audio.wav\u001B[39m\u001B[38;5;124m\"\u001B[39m\n\u001B[1;32m      8\u001B[0m     audio\u001B[38;5;241m.\u001B[39mexport(wav_file, \u001B[38;5;28mformat\u001B[39m\u001B[38;5;241m=\u001B[39m\u001B[38;5;124m\"\u001B[39m\u001B[38;5;124mwav\u001B[39m\u001B[38;5;124m\"\u001B[39m)\n",
      "File \u001B[0;32m~/Desktop/Projects/HF/.venv/lib/python3.9/site-packages/pydub/audio_segment.py:773\u001B[0m, in \u001B[0;36mAudioSegment.from_file\u001B[0;34m(cls, file, format, codec, parameters, start_second, duration, **kwargs)\u001B[0m\n\u001B[1;32m    771\u001B[0m     \u001B[38;5;28;01mif\u001B[39;00m close_file:\n\u001B[1;32m    772\u001B[0m         file\u001B[38;5;241m.\u001B[39mclose()\n\u001B[0;32m--> 773\u001B[0m     \u001B[38;5;28;01mraise\u001B[39;00m CouldntDecodeError(\n\u001B[1;32m    774\u001B[0m         \u001B[38;5;124m\"\u001B[39m\u001B[38;5;124mDecoding failed. ffmpeg returned error code: \u001B[39m\u001B[38;5;132;01m{0}\u001B[39;00m\u001B[38;5;130;01m\\n\u001B[39;00m\u001B[38;5;130;01m\\n\u001B[39;00m\u001B[38;5;124mOutput from ffmpeg/avlib:\u001B[39m\u001B[38;5;130;01m\\n\u001B[39;00m\u001B[38;5;130;01m\\n\u001B[39;00m\u001B[38;5;132;01m{1}\u001B[39;00m\u001B[38;5;124m\"\u001B[39m\u001B[38;5;241m.\u001B[39mformat(\n\u001B[1;32m    775\u001B[0m             p\u001B[38;5;241m.\u001B[39mreturncode, p_err\u001B[38;5;241m.\u001B[39mdecode(errors\u001B[38;5;241m=\u001B[39m\u001B[38;5;124m'\u001B[39m\u001B[38;5;124mignore\u001B[39m\u001B[38;5;124m'\u001B[39m) ))\n\u001B[1;32m    777\u001B[0m p_out \u001B[38;5;241m=\u001B[39m \u001B[38;5;28mbytearray\u001B[39m(p_out)\n\u001B[1;32m    778\u001B[0m fix_wav_headers(p_out)\n",
      "\u001B[0;31mCouldntDecodeError\u001B[0m: Decoding failed. ffmpeg returned error code: 234\n\nOutput from ffmpeg/avlib:\n\nffmpeg version 7.0.2 Copyright (c) 2000-2024 the FFmpeg developers\n  built with Apple clang version 15.0.0 (clang-1500.3.9.4)\n  configuration: --prefix=/opt/homebrew/Cellar/ffmpeg/7.0.2 --enable-shared --enable-pthreads --enable-version3 --cc=clang --host-cflags= --host-ldflags='-Wl,-ld_classic' --enable-ffplay --enable-gnutls --enable-gpl --enable-libaom --enable-libaribb24 --enable-libbluray --enable-libdav1d --enable-libharfbuzz --enable-libjxl --enable-libmp3lame --enable-libopus --enable-librav1e --enable-librist --enable-librubberband --enable-libsnappy --enable-libsrt --enable-libssh --enable-libsvtav1 --enable-libtesseract --enable-libtheora --enable-libvidstab --enable-libvmaf --enable-libvorbis --enable-libvpx --enable-libwebp --enable-libx264 --enable-libx265 --enable-libxml2 --enable-libxvid --enable-lzma --enable-libfontconfig --enable-libfreetype --enable-frei0r --enable-libass --enable-libopencore-amrnb --enable-libopencore-amrwb --enable-libopenjpeg --enable-libspeex --enable-libsoxr --enable-libzmq --enable-libzimg --disable-libjack --disable-indev=jack --enable-videotoolbox --enable-audiotoolbox --enable-neon\n  libavutil      59.  8.100 / 59.  8.100\n  libavcodec     61.  3.100 / 61.  3.100\n  libavformat    61.  1.100 / 61.  1.100\n  libavdevice    61.  1.100 / 61.  1.100\n  libavfilter    10.  1.100 / 10.  1.100\n  libswscale      8.  1.100 /  8.  1.100\n  libswresample   5.  1.100 /  5.  1.100\n  libpostproc    58.  1.100 / 58.  1.100\n[mpeg4 @ 0x12ba04d70] only rectangular vol supported\n[mpeg4 @ 0x12ba04d70] Marker bit missing at 300192 of 110805992 before time_increment_resolution\n[mpeg4 @ 0x12ba04d70] Marker bit missing at 300209 of 110805992 before fixed_vop_rate\n[mpeg4 @ 0x12ba04d70] Marker bit missing at 300252 of 110805992 in complexity estimation part 2\n[mpeg4 @ 0x12ba04d70] reduced resolution VOP not supported\n[mpeg4 @ 0x12ba04d70] Ignoring multiple VOL headers\n    Last message repeated 138 times\n[mpeg4 @ 0x12ba04d70] Marker bit missing at 101355811 of 110805992 in gop_header\n[mpeg4 @ 0x12ba04d70] Ignoring multiple VOL headers\n    Last message repeated 14 times\n[mpeg4 @ 0x12ba04d70] only rectangular vol supported\n[mpeg4 @ 0x12ba04d70] Marker bit missing at 300192 of 110805992 before time_increment_resolution\n[mpeg4 @ 0x12ba04d70] Marker bit missing at 300209 of 110805992 before fixed_vop_rate\n[mpeg4 @ 0x12ba04d70] Marker bit missing at 300252 of 110805992 in complexity estimation part 2\n[mpeg4 @ 0x12ba04d70] reduced resolution VOP not supported\n[mpeg4 @ 0x12ba04d70] Ignoring multiple VOL headers\n    Last message repeated 138 times\n[mpeg4 @ 0x12ba04d70] Marker bit missing at 101355811 of 110805992 in gop_header\n[mpeg4 @ 0x12ba04d70] Ignoring multiple VOL headers\n    Last message repeated 14 times\n[mpeg4 @ 0x12ba04d70] header damaged\n[m4v @ 0x12ba04500] Stream #0: not enough frames to estimate rate; consider increasing probesize\n[m4v @ 0x12ba04500] Could not find codec parameters for stream 0 (Video: mpeg4 (N-bit Profile), none): unspecified size\nConsider increasing the value for the 'analyzeduration' (0) and 'probesize' (5000000) options\nInput #0, m4v, from '/Volumes/TOSHIBA EXT/video/hf hub_audio.m4v':\n  Duration: N/A, bitrate: N/A\n  Stream #0:0: Video: mpeg4 (N-bit Profile), none, 25 fps, 1 tbr, 1200k tbn\nOutput #0, wav, to 'pipe:':\n[out#0/wav @ 0x60000228c000] Output file does not contain any stream\nError opening output file -.\nError opening output files: Invalid argument\n"
     ]
    }
   ],
   "execution_count": 16
  },
  {
   "metadata": {},
   "cell_type": "code",
   "outputs": [],
   "execution_count": null,
   "source": [
    " \n",
    "\n",
    "# Extract the audio from the video\n",
    "audio_path = \"extracted_audio.wav\"\n",
    "video.audio.write_audiofile(audio_path, codec='pcm_s16le')\n",
    "\n",
    "# Initialize recognizer\n",
    "recognizer = sr.Recognizer()\n",
    "\n",
    "# Convert audio to text\n",
    "with sr.AudioFile(audio_path) as source:\n",
    "    audio = recognizer.record(source)\n",
    "    transcript = recognizer.recognize_google(audio)\n",
    "\n",
    "# Save the transcript to a text file\n",
    "transcript_path = \"transcript.txt\"\n",
    "with open(transcript_path, \"w\") as file:\n",
    "    file.write(transcript)\n",
    "\n",
    "print(\"Transcript saved to:\", transcript_path)\n"
   ],
   "id": "a95738d97306e0bf"
  }
 ],
 "metadata": {
  "kernelspec": {
   "display_name": "Python 3",
   "language": "python",
   "name": "python3"
  },
  "language_info": {
   "codemirror_mode": {
    "name": "ipython",
    "version": 2
   },
   "file_extension": ".py",
   "mimetype": "text/x-python",
   "name": "python",
   "nbconvert_exporter": "python",
   "pygments_lexer": "ipython2",
   "version": "2.7.6"
  }
 },
 "nbformat": 4,
 "nbformat_minor": 5
}
