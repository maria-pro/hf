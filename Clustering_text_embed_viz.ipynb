{
 "cells": [
  {
   "metadata": {},
   "cell_type": "markdown",
   "source": "# Clustering with text embeddings",
   "id": "baeb21aa6d9809bc"
  },
  {
   "metadata": {},
   "cell_type": "markdown",
   "source": [
    "Document clustering or topic modeling is a common NLP use case often referred to as . It's the exercise of analyzing a large amount of text information and grouping documents (or headlines in our case) into groups. These can be:\n",
    "\n",
    "Analyzing news articles to group similar articles (like how Google News groups articles about the same event)\n",
    "Analyzing customer emails to identify common requests and themes\n",
    "Exploring financial filings and earning"
   ],
   "id": "f0b6adc7fd5400fe"
  },
  {
   "metadata": {},
   "cell_type": "markdown",
   "source": [
    "a common NLP use case often referred to as document clustering or topic modeling. It's the exercise of analyzing a large amount of text information and grouping documents (or headlines in our case) into groups. These can be:\n",
    "\n",
    "Analyzing news articles to group similar articles (like how Google News groups articles about the same event)\n",
    "Analyzing customer emails to identify common requests and themes\n",
    "Exploring financial filings and earning"
   ],
   "id": "5b130e016fbbfb8"
  },
  {
   "metadata": {},
   "cell_type": "markdown",
   "source": [
    "Steps:\n",
    "\n",
    "- Embed the text (e.g. titles of the top scoring 10K posts on hacker news)\n",
    "\n",
    "- Cluster the embeddings (kmeans)\n",
    "\n",
    "- UMAP and impose the clusters on the plot\n",
    "\n",
    "- Extract keywords from the clusters (using cTFIDF from BERTopic, which now also supports kmeans!)\n",
    "\n",
    "- Cluster Naming: a generative language model assigns a better name to a cluster (using the extracted keywords)"
   ],
   "id": "d6fbfb900aa0dfaa"
  },
  {
   "metadata": {},
   "cell_type": "code",
   "outputs": [],
   "execution_count": null,
   "source": "",
   "id": "c5ddbadcebe691d8"
  },
  {
   "metadata": {},
   "cell_type": "markdown",
   "source": [
    "Demo 1: https://assets.cohere.ai/blog/text-clustering/hn10k_clustered.html\n",
    "\n",
    "Demo 2: https://assets.cohere.ai/blog/text-clustering/askhn-3k.html\n",
    "\n",
    "\n"
   ],
   "id": "2d65f3df5355c582"
  },
  {
   "metadata": {},
   "cell_type": "code",
   "outputs": [],
   "execution_count": null,
   "source": "",
   "id": "81b7420d60937fba"
  }
 ],
 "metadata": {
  "kernelspec": {
   "display_name": "Python 3",
   "language": "python",
   "name": "python3"
  },
  "language_info": {
   "codemirror_mode": {
    "name": "ipython",
    "version": 2
   },
   "file_extension": ".py",
   "mimetype": "text/x-python",
   "name": "python",
   "nbconvert_exporter": "python",
   "pygments_lexer": "ipython2",
   "version": "2.7.6"
  }
 },
 "nbformat": 4,
 "nbformat_minor": 5
}
